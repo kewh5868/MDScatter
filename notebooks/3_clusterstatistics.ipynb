{
 "cells": [
  {
   "cell_type": "markdown",
   "metadata": {},
   "source": [
    "# Step 3: Cluster Distribution Statistical Analysis\n",
    "Calculate statstical information on cluster distributions isolated in the 'Step 2' Cluster Network Isolation notebook. \n",
    "\n",
    "---\n",
    "Here, we can compute information such as:\n",
    "\n",
    "- Coordination Number Distributions\n",
    "- Bond Length, Angle Distributions\n",
    "- Volume Distributions\n",
    "- Cluster Atom Count Distributions\n",
    "- Volume Fraction (Scattering) Contributions"
   ]
  },
  {
   "cell_type": "markdown",
   "metadata": {},
   "source": [
    "## Custom Imports\n",
    "Relative import the custom classes to support the cluster network tool."
   ]
  },
  {
   "cell_type": "code",
   "execution_count": null,
   "metadata": {},
   "outputs": [],
   "source": [
    "# Import and run the setup script\n",
    "import sys, os\n",
    "import numpy as np\n",
    "\n",
    "# Ensure the project root is in sys.path to locate setup_env\n",
    "project_root = os.path.abspath(os.path.join(os.getcwd(), '..'))\n",
    "if project_root not in sys.path:\n",
    "    sys.path.append(project_root)\n",
    "\n",
    "# Import the setup helper and configure the environment\n",
    "from setup_env import setup_environment\n",
    "\n",
    "# Capture the imported classes from setup_environment\n",
    "RadiusOfGyrationCalculator, PDBEditor, TrajectoryProcessor, PDBFileHandler, Atom, ClusterNetwork, ClusterBatchAnalyzer = setup_environment()"
   ]
  },
  {
   "cell_type": "markdown",
   "metadata": {
    "vscode": {
     "languageId": "plaintext"
    }
   },
   "source": [
    "## Cluster Single Frame Analysis"
   ]
  },
  {
   "cell_type": "markdown",
   "metadata": {},
   "source": [
    "### Bond Length and Angle Distributions"
   ]
  },
  {
   "cell_type": "code",
   "execution_count": null,
   "metadata": {},
   "outputs": [],
   "source": [
    "# Define the path to the PDB file and initialize the handler\n",
    "pdb_file_path = '/Users/keithwhite/repos/MDScatter/data/example/frame_0001.pdb'\n",
    "core_residue_names = ['PBI']\n",
    "shell_residue_names = ['DMS']\n",
    "pdb_handler = PDBFileHandler(pdb_file_path, core_residue_names, shell_residue_names)\n",
    "\n",
    "# Initialize ClusterNetwork with relevant parameters\n",
    "node_elements = ['Pb']\n",
    "linker_elements = ['Pb', 'I']\n",
    "terminator_elements = ['I']\n",
    "segment_cutoff = 3.7\n",
    "cluster_network = ClusterNetwork(\n",
    "    pdb_handler.core_atoms,\n",
    "    pdb_handler.shell_atoms,\n",
    "    node_elements,\n",
    "    linker_elements,\n",
    "    terminator_elements,\n",
    "    segment_cutoff,\n",
    "    core_residue_names,\n",
    "    shell_residue_names\n",
    ")\n",
    "\n",
    "# Analyze networks\n",
    "networks = cluster_network.analyze_networks()\n",
    "\n",
    "# Specify bond lengths and angles to calculate\n",
    "# bond_length_pairs = [('Pb', 'I', 3.8), ('I', 'I', 7.6)]\n",
    "bond_length_pairs = [('Pb', 'I', 3.8)] #, ('I', 'I', 7.6)]\n",
    "bond_angle_triplets = [('I', 'Pb', 'I', 3.8)]\n",
    "\n",
    "# Calculate and plot distributions\n",
    "cluster_network.calculate_and_plot_distributions(bond_length_pairs, bond_angle_triplets)"
   ]
  },
  {
   "cell_type": "markdown",
   "metadata": {},
   "source": [
    "### Coordination Number Distributions"
   ]
  },
  {
   "cell_type": "code",
   "execution_count": null,
   "metadata": {},
   "outputs": [],
   "source": [
    "# Calculate coordination numbers\n",
    "target_elements = ['Pb']\n",
    "neighbor_elements = ['I', 'O']\n",
    "distance_thresholds = {('Pb', 'I'): 3.8, ('Pb', 'O'): 3}\n",
    "coordination_stats, total_stats = cluster_network.calculate_coordination_numbers(target_elements, neighbor_elements, distance_thresholds)\n",
    "\n",
    "# Print coordination numbers\n",
    "cluster_network.print_coordination_numbers(coordination_stats, total_stats)"
   ]
  },
  {
   "cell_type": "markdown",
   "metadata": {},
   "source": [
    "### Coordination Number Heatmap"
   ]
  },
  {
   "cell_type": "code",
   "execution_count": null,
   "metadata": {},
   "outputs": [],
   "source": [
    "# Define parameters for the heatmap\n",
    "central_element = 'Pb'\n",
    "x_pair = ('Pb', 'I')\n",
    "y_pair = ('Pb', 'O')\n",
    "x_range = (0, 6)  # Range for Pb-I coordination number\n",
    "y_range = (0, 6)  # Range for Pb-O coordination number\n",
    "distance_cutoffs = {('Pb', 'I'): 3.5, ('Pb', 'O'): 3}\n",
    "\n",
    "# Calculate and plot the heatmap\n",
    "cluster_network.calculate_and_plot_heatmap(central_element, x_pair, y_pair, x_range, y_range, distance_cutoffs)\n"
   ]
  },
  {
   "cell_type": "markdown",
   "metadata": {},
   "source": [
    "## Cluster Batch Frame Analysis"
   ]
  },
  {
   "cell_type": "markdown",
   "metadata": {},
   "source": [
    "### Setup\n",
    "Checking coordination numbers and elements in Mendeleev data repository to help with input fields for cluster analyzer."
   ]
  },
  {
   "cell_type": "code",
   "execution_count": null,
   "metadata": {},
   "outputs": [],
   "source": [
    "from mendeleev import element\n",
    "\n",
    "# Retrieve the element information for oxygen\n",
    "oxygen = element('I')\n",
    "\n",
    "# Fetch the ionic radii for oxygen in different oxidation states\n",
    "ionic_radii = oxygen.ionic_radii\n",
    "\n",
    "# Print the ionic radii for each oxidation state\n",
    "for ir in ionic_radii:\n",
    "    print(f\"Oxidation State: {ir.charge}, Coordination: {ir.coordination}, Ionic Radius: {ir.ionic_radius} pm\")\n"
   ]
  },
  {
   "cell_type": "markdown",
   "metadata": {},
   "source": [
    "### Setup the Cluster Batch Analyzer"
   ]
  },
  {
   "cell_type": "code",
   "execution_count": 2,
   "metadata": {},
   "outputs": [],
   "source": [
    "%matplotlib widget\n",
    "\n",
    "## -- DEFINE THE PDB FOLDER PATH\n",
    "# pdb_directory = '/Users/keithwhite/repos/MDScatter/data/example/solute_cluster_pdb_files_240920_164337'\n",
    "pdb_directory = '/Users/keithwhite/repos/MDScatter/data/example/solute-solvent_cluster_pdb_files'\n",
    "\n",
    "## -- SETUP FOR FIRST COORDINATION SHELL\n",
    "target_elements = ['Pb']\n",
    "neighbor_elements = ['O', 'I']\n",
    "distance_thresholds = {\n",
    "    ('Pb', 'O'): 3.0,  # Example threshold distances in angstroms\n",
    "    ('Pb', 'I'): 3.6\n",
    "}\n",
    "\n",
    "## -- FOR CHARGE DISTRIBUTION CALCULATION - USE SETUP TOOL TO SET THESE VALUES\n",
    "partial_charges = {\n",
    "    'Pb': (2, 6),    # Lead with a charge of 2+ and coordination number of 6\n",
    "    'I': (-1, 6),    # Iodine with a charge of 1- and coordination number of 6\n",
    "    'S': (-2, 6),    # Sulfur in DMSO with a neutral charge and coordination number of 2\n",
    "    'O': (-2, 2),    # Oxygen in DMSO with a charge of 2- and coordination number of 2\n",
    "    'C': (4, 4),     # Carbon in DMSO with a neutral charge and coordination number of 4\n",
    "    'H': (1, 1)      # Hydrogen in DMSO with a neutral charge and coordination number of 1\n",
    "}\n",
    "\n",
    "# Instantiate the ClusterBatchAnalyzer class with the necessary parameters\n",
    "analyzer = ClusterBatchAnalyzer(\n",
    "    pdb_directory=pdb_directory,\n",
    "    target_elements=target_elements,\n",
    "    neighbor_elements=neighbor_elements,\n",
    "    distance_thresholds=distance_thresholds,\n",
    "    charges=partial_charges,\n",
    "    core_residue_names=['PBI'], \n",
    "    shell_residue_names=['DMS'],\n",
    "    volume_method='radius_of_gyration'  # Choose the radius of gyration method\n",
    ")"
   ]
  },
  {
   "cell_type": "markdown",
   "metadata": {},
   "source": [
    "### Statistical Analysis of Clusters"
   ]
  },
  {
   "cell_type": "code",
   "execution_count": null,
   "metadata": {},
   "outputs": [],
   "source": [
    "## -- Analyze clusters to compute coordination numbers and volumes\n",
    "# Specify shape_type='sphere' to use spherical approximation with radius of gyration\n",
    "\n",
    "coordination_stats_per_size = analyzer.analyze_clusters(shape_type='sphere')\n",
    "# coordination_stats_per_size = analyzer.analyze_clusters(shape_type='ellipsoid')"
   ]
  },
  {
   "cell_type": "markdown",
   "metadata": {},
   "source": [
    "## Sorted Cluster Analysis"
   ]
  },
  {
   "cell_type": "markdown",
   "metadata": {},
   "source": [
    "### Sort Clusters into Folders by Node Element Count"
   ]
  },
  {
   "cell_type": "code",
   "execution_count": null,
   "metadata": {},
   "outputs": [],
   "source": [
    "analyzer.sort_pdb_files_by_node_count(node_elements=['Pb'])"
   ]
  },
  {
   "cell_type": "code",
   "execution_count": null,
   "metadata": {},
   "outputs": [],
   "source": [
    "# User provides the path to the sorted folder\n",
    "sorted_pdb_folder = '/Users/keithwhite/repos/MDScatter/data/example/sorted_solute-solvent_cluster_pdb_files'\n",
    "\n",
    "# Define the target and neighbor elements\n",
    "target_elements = ['Pb']  # Example target elements\n",
    "neighbor_elements = ['O', 'I']  # Example neighbor elements\n",
    "\n",
    "# Define distance thresholds for atom pairs\n",
    "distance_thresholds = {\n",
    "    ('Pb', 'O'): 3.0,  # Threshold distances in angstroms\n",
    "    ('Pb', 'I'): 3.8\n",
    "}\n",
    "\n",
    "# Run the coordination calculation with distance thresholds\n",
    "coordination_stats, sharing_patterns = analyzer.calculate_coordination_stats_by_subfolder(\n",
    "    sorted_pdb_folder=sorted_pdb_folder,\n",
    "    target_elements=target_elements,\n",
    "    neighbor_elements=neighbor_elements,\n",
    "    distance_thresholds=distance_thresholds\n",
    ")\n",
    "\n",
    "# Print coordination statistics per subfolder\n",
    "for subfolder, stats in coordination_stats.items():\n",
    "    print(f\"\\nSubfolder: {subfolder}\")\n",
    "    for pair, counts in stats.items():\n",
    "        mean = np.mean(counts)\n",
    "        std = np.std(counts)\n",
    "        print(f\"  {pair[0]} coordinated by {pair[1]}: Mean = {mean:.2f}, Std Dev = {std:.2f}\")\n",
    "\n",
    "# Generate tables per folder\n",
    "for subfolder, multiplicity_counts in analyzer.per_folder_multiplicity_counts.items():\n",
    "    analyzer.generate_ascii_table(multiplicity_counts, title=f\"Multiplicity Counts for Folder: {subfolder}\")\n",
    "\n",
    "# Generate overall table\n",
    "analyzer.generate_ascii_table(analyzer.overall_multiplicity_counts, title=\"Overall Multiplicity Counts Across All Folders\")\n",
    "\n",
    "# Report the sharing patterns\n",
    "print(\"\\nSharing Patterns:\")\n",
    "for pattern, count in sharing_patterns.items():\n",
    "    num_targets, target_element, num_neighbors, neighbor_element = pattern\n",
    "    print(f\"{count} instance(s) of {num_targets} {target_element} atom(s) sharing {num_neighbors} {neighbor_element} atom(s)\")"
   ]
  }
 ],
 "metadata": {
  "kernelspec": {
   "display_name": "pdfreduce",
   "language": "python",
   "name": "python3"
  },
  "language_info": {
   "codemirror_mode": {
    "name": "ipython",
    "version": 3
   },
   "file_extension": ".py",
   "mimetype": "text/x-python",
   "name": "python",
   "nbconvert_exporter": "python",
   "pygments_lexer": "ipython3",
   "version": "3.11.6"
  }
 },
 "nbformat": 4,
 "nbformat_minor": 2
}
