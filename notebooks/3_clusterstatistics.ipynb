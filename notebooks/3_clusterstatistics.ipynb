{
 "cells": [
  {
   "cell_type": "markdown",
   "metadata": {},
   "source": [
    "# Step 3: Cluster Distribution Statistical Analysis\n",
    "Calculate statstical information on cluster distributions isolated in the 'Step 2' Cluster Network Isolation notebook. \n",
    "\n",
    "---\n",
    "Here, we can compute information such as:\n",
    "\n",
    "- Coordination Number Distributions\n",
    "- Bond Length, Angle Distributions\n",
    "- Volume Distributions\n",
    "- Cluster Atom Count Distributions\n",
    "- Volume Fraction (Scattering) Contributions"
   ]
  },
  {
   "cell_type": "markdown",
   "metadata": {},
   "source": [
    "## Custom Imports\n",
    "Relative import the custom classes to support the cluster network tool."
   ]
  },
  {
   "cell_type": "code",
   "execution_count": null,
   "metadata": {},
   "outputs": [],
   "source": [
    "# Import and run the setup script\n",
    "import sys, os\n",
    "import numpy as np\n",
    "from typing import TypedDict, Optional, Dict\n",
    "\n",
    "# Ensure the project root is in sys.path to locate setup_env\n",
    "project_root = os.path.abspath(os.path.join(os.getcwd(), '..'))\n",
    "if project_root not in sys.path:\n",
    "    sys.path.append(project_root)\n",
    "\n",
    "# Import the setup helper and configure the environment\n",
    "from setup_env import setup_environment\n",
    "\n",
    "# Capture the imported classes from setup_environment\n",
    "BulkVolumeParams, BulkVolume, RadiusOfGyrationCalculator, PDBEditor, TrajectoryProcessor, PDBFileHandler, Atom, ClusterNetwork, ClusterBatchAnalyzer = setup_environment()"
   ]
  },
  {
   "cell_type": "markdown",
   "metadata": {
    "vscode": {
     "languageId": "plaintext"
    }
   },
   "source": [
    "## Cluster Single Frame Analysis"
   ]
  },
  {
   "cell_type": "markdown",
   "metadata": {},
   "source": [
    "### Bond Length and Angle Distributions"
   ]
  },
  {
   "cell_type": "code",
   "execution_count": null,
   "metadata": {},
   "outputs": [],
   "source": [
    "# Define the path to the PDB file and initialize the handler\n",
    "pdb_file_path = '/Users/keithwhite/repos/MDScatter/data/example/frame_0001.pdb'\n",
    "core_residue_names = ['PBI']\n",
    "shell_residue_names = ['DMS']\n",
    "pdb_handler = PDBFileHandler(pdb_file_path, core_residue_names, shell_residue_names)\n",
    "\n",
    "# Initialize ClusterNetwork with relevant parameters\n",
    "node_elements = ['Pb']\n",
    "linker_elements = ['Pb', 'I']\n",
    "terminator_elements = ['I']\n",
    "segment_cutoff = 3.7\n",
    "cluster_network = ClusterNetwork(\n",
    "    pdb_handler.core_atoms,\n",
    "    pdb_handler.shell_atoms,\n",
    "    node_elements,\n",
    "    linker_elements,\n",
    "    terminator_elements,\n",
    "    segment_cutoff,\n",
    "    core_residue_names,\n",
    "    shell_residue_names\n",
    ")\n",
    "\n",
    "# Analyze networks\n",
    "networks = cluster_network.analyze_networks()\n",
    "\n",
    "# Specify bond lengths and angles to calculate\n",
    "# bond_length_pairs = [('Pb', 'I', 3.8), ('I', 'I', 7.6)]\n",
    "bond_length_pairs = [('Pb', 'I', 3.8)] #, ('I', 'I', 7.6)]\n",
    "bond_angle_triplets = [('I', 'Pb', 'I', 3.8)]\n",
    "\n",
    "# Calculate and plot distributions\n",
    "cluster_network.calculate_and_plot_distributions(bond_length_pairs, bond_angle_triplets)"
   ]
  },
  {
   "cell_type": "markdown",
   "metadata": {},
   "source": [
    "### Coordination Number Distributions"
   ]
  },
  {
   "cell_type": "code",
   "execution_count": null,
   "metadata": {},
   "outputs": [],
   "source": [
    "# Calculate coordination numbers\n",
    "target_elements = ['Pb']\n",
    "neighbor_elements = ['I', 'O']\n",
    "distance_thresholds = {('Pb', 'I'): 3.8, ('Pb', 'O'): 3}\n",
    "coordination_stats, total_stats = cluster_network.calculate_coordination_numbers(target_elements, neighbor_elements, distance_thresholds)\n",
    "\n",
    "# Print coordination numbers\n",
    "cluster_network.print_coordination_numbers(coordination_stats, total_stats)"
   ]
  },
  {
   "cell_type": "markdown",
   "metadata": {},
   "source": [
    "### Coordination Number Heatmap"
   ]
  },
  {
   "cell_type": "code",
   "execution_count": null,
   "metadata": {},
   "outputs": [],
   "source": [
    "# Define parameters for the heatmap\n",
    "central_element = 'Pb'\n",
    "x_pair = ('Pb', 'I')\n",
    "y_pair = ('Pb', 'O')\n",
    "x_range = (0, 6)  # Range for Pb-I coordination number\n",
    "y_range = (0, 6)  # Range for Pb-O coordination number\n",
    "distance_cutoffs = {('Pb', 'I'): 3.5, ('Pb', 'O'): 3}\n",
    "\n",
    "# Calculate and plot the heatmap\n",
    "cluster_network.calculate_and_plot_heatmap(central_element, x_pair, y_pair, x_range, y_range, distance_cutoffs)\n"
   ]
  },
  {
   "cell_type": "markdown",
   "metadata": {},
   "source": [
    "## Cluster Batch Frame Analysis"
   ]
  },
  {
   "cell_type": "markdown",
   "metadata": {},
   "source": [
    "### Setup\n",
    "Checking coordination numbers and elements in Mendeleev data repository to help with input fields for cluster analyzer."
   ]
  },
  {
   "cell_type": "code",
   "execution_count": null,
   "metadata": {},
   "outputs": [],
   "source": [
    "from mendeleev import element\n",
    "\n",
    "# Retrieve the element information for oxygen\n",
    "oxygen = element('I')\n",
    "\n",
    "# Fetch the ionic radii for oxygen in different oxidation states\n",
    "ionic_radii = oxygen.ionic_radii\n",
    "\n",
    "# Print the ionic radii for each oxidation state\n",
    "for ir in ionic_radii:\n",
    "    print(f\"Oxidation State: {ir.charge}, Coordination: {ir.coordination}, Ionic Radius: {ir.ionic_radius} pm\")\n"
   ]
  },
  {
   "cell_type": "markdown",
   "metadata": {},
   "source": [
    "### Setup the Cluster Batch Analyzer"
   ]
  },
  {
   "cell_type": "markdown",
   "metadata": {},
   "source": [
    "#### Batch Analyzer Settings"
   ]
  },
  {
   "cell_type": "code",
   "execution_count": 2,
   "metadata": {},
   "outputs": [],
   "source": [
    "%matplotlib widget\n",
    "\n",
    "## -- DEFINE THE PDB FOLDER PATH\n",
    "pdb_directory = '/Users/keithwhite/repos/MDScatter/data/PbI2_DMSO_0p8M_cr_nb/clusters_pdb_sc3p7_PbO-3'\n",
    "\n",
    "## -- SETUP FOR FIRST COORDINATION SHELL\n",
    "target_elements = ['Pb']\n",
    "neighbor_elements = ['O', 'I']\n",
    "distance_thresholds = {\n",
    "    ('Pb', 'O'): 3.0,  # Example threshold distances in angstroms\n",
    "    ('Pb', 'I'): 3.7\n",
    "}\n",
    "\n",
    "## -- FOR CHARGE DISTRIBUTION CALCULATION - USE SETUP TOOL TO SET THESE VALUES\n",
    "partial_charges = {\n",
    "    'Pb': (2, 6),    # Lead with a charge of 2+ and coordination number of 6\n",
    "    'I': (-1, 6),    # Iodine with a charge of 1- and coordination number of 6\n",
    "    'S': (-2, 6),    # Sulfur in DMSO with a neutral charge and coordination number of 2\n",
    "    'O': (-2, 2),    # Oxygen in DMSO with a charge of 2- and coordination number of 2\n",
    "    'C': (4, 4),     # Carbon in DMSO with a neutral charge and coordination number of 4\n",
    "    'H': (1, 1)      # Hydrogen in DMSO with a neutral charge and coordination number of 1\n",
    "}\n",
    "\n",
    "## -- DEFINE THE PARAMETERS FOR BULK VOLUME ESTIMATION FROM EXPERIMENTAL MEASUREMENTS\n",
    "BulkVolumeParams = {\n",
    "    'mass_percent_solute': 25.83,\n",
    "    'density_solution': 1.403,\n",
    "    'density_neat_solvent': 1.1,\n",
    "    'molar_mass_solvent': 78.13,\n",
    "    'molar_mass_solute': 461.0,\n",
    "    'ionic_radii': {\n",
    "        'Pb': 1.19,\n",
    "        'I': 2.20\n",
    "    },\n",
    "    'stoichiometry': {\n",
    "        'Pb': 1,\n",
    "        'I': 2\n",
    "    },\n",
    "    'atomic_masses': {\n",
    "        'Pb': 207.2,\n",
    "        'I': 126.9\n",
    "    },\n",
    "    'solute_residues': {\n",
    "        'Pb': 'PBI',\n",
    "        'I': 'PBI'\n",
    "    },\n",
    "    'solvent_name': 'DMS',\n",
    "    'total_mass': 1.403\n",
    "}"
   ]
  },
  {
   "cell_type": "markdown",
   "metadata": {},
   "source": [
    "#### Initialization"
   ]
  },
  {
   "cell_type": "code",
   "execution_count": null,
   "metadata": {},
   "outputs": [],
   "source": [
    "# Instantiate the ClusterBatchAnalyzer class with the necessary parameters\n",
    "analyzer = ClusterBatchAnalyzer(\n",
    "    pdb_directory=pdb_directory,\n",
    "    target_elements=target_elements,\n",
    "    neighbor_elements=neighbor_elements,\n",
    "    distance_thresholds=distance_thresholds,\n",
    "    charges=partial_charges,\n",
    "    core_residue_names=['PBI'], \n",
    "    shell_residue_names=['DMS'],\n",
    "    # volume_method='ionic_radius'  # Choose the ionic radius estimation method\n",
    "    # volume_method='radius_of_gyration'  # Choose the radius of gyration method\n",
    "    volume_method='bulk_volume',  # Choose the radius of gyration method,\n",
    "    bulk_volume_params = BulkVolumeParams\n",
    ")"
   ]
  },
  {
   "cell_type": "markdown",
   "metadata": {},
   "source": [
    "### Statistical Analysis of Clusters"
   ]
  },
  {
   "cell_type": "code",
   "execution_count": null,
   "metadata": {},
   "outputs": [],
   "source": [
    "## -- Analyze clusters to compute coordination numbers and volumes\n",
    "# Specify shape_type='sphere' to use spherical approximation with radius of gyration\n",
    "\n",
    "coordination_stats_per_size = analyzer.analyze_clusters(shape_type='sphere')\n",
    "# coordination_stats_per_size = analyzer.analyze_clusters(shape_type='ellipsoid')"
   ]
  },
  {
   "cell_type": "markdown",
   "metadata": {},
   "source": [
    "## Sorted Cluster Analysis"
   ]
  },
  {
   "cell_type": "markdown",
   "metadata": {},
   "source": [
    "### Sort Clusters into Folders by Node Element Count\n",
    "Description: Sort the clusters in your source PDB folder by the number of counts of individual node elements. This step will also determine the coordination statistics and sharing patterns within the distribution of your clusters, for later plotting."
   ]
  },
  {
   "cell_type": "code",
   "execution_count": null,
   "metadata": {},
   "outputs": [],
   "source": [
    "analyzer.sort_pdb_files_by_node_count(node_elements=['Pb'])"
   ]
  },
  {
   "cell_type": "markdown",
   "metadata": {},
   "source": [
    "### Calculate Coordination Number & Sharing Statistics"
   ]
  },
  {
   "cell_type": "code",
   "execution_count": null,
   "metadata": {},
   "outputs": [],
   "source": [
    "# User provides the path to the sorted folder\n",
    "sorted_pdb_folder = '/Users/keithwhite/repos/MDScatter/data/PbI2_DMSO_0p8M_cr_nb/sorted_clusters_pdb_sc3p7_PbO-3'\n",
    "\n",
    "# Define the target and neighbor elements\n",
    "target_elements = ['Pb']  # Example target elements\n",
    "neighbor_elements = ['O', 'I']  # Example neighbor elements\n",
    "\n",
    "# Define distance thresholds for atom pairs\n",
    "distance_thresholds = {\n",
    "    ('Pb', 'O'): 3.0,  # Threshold distances in angstroms\n",
    "    ('Pb', 'I'): 3.7\n",
    "}\n",
    "\n",
    "# Run the coordination calculation with distance thresholds\n",
    "coordination_stats, sharing_patterns = analyzer.calculate_coordination_stats_by_subfolder(\n",
    "    sorted_pdb_folder=sorted_pdb_folder,\n",
    "    target_elements=target_elements,\n",
    "    neighbor_elements=neighbor_elements,\n",
    "    distance_thresholds=distance_thresholds\n",
    ")\n",
    "\n",
    "# Print coordination statistics per subfolder\n",
    "for subfolder, stats in coordination_stats.items():\n",
    "    print(f\"\\nSubfolder: {subfolder}\")\n",
    "    for pair, counts in stats.items():\n",
    "        mean = np.mean(counts)\n",
    "        std = np.std(counts)\n",
    "        print(f\"  {pair[0]} coordinated by {pair[1]}: Mean = {mean:.2f}, Std Dev = {std:.2f}\")\n",
    "\n",
    "# Generate tables per folder\n",
    "for subfolder, multiplicity_counts in analyzer.per_folder_multiplicity_counts.items():\n",
    "    analyzer.generate_ascii_table(multiplicity_counts, title=f\"Multiplicity Counts for Folder: {subfolder}\")\n",
    "\n",
    "# Generate overall table\n",
    "analyzer.generate_ascii_table(analyzer.overall_multiplicity_counts, title=\"Overall Multiplicity Counts Across All Folders\")\n",
    "\n",
    "# Report the sharing patterns\n",
    "print(\"\\nSharing Patterns:\")\n",
    "for pattern, count in sharing_patterns.items():\n",
    "    num_targets, target_element, num_neighbors, neighbor_element = pattern\n",
    "    print(f\"{count} instance(s) of {num_targets} {target_element} atom(s) sharing {num_neighbors} {neighbor_element} atom(s)\")"
   ]
  },
  {
   "cell_type": "markdown",
   "metadata": {},
   "source": [
    "### Plotting 'Sorted' Cluster Analysis\n",
    "- Average Coordination Number Histogram\n",
    "- Coordination Number Distribution Heatmap\n",
    "- Coordination Number Histogram: Total Coordination Number\n",
    "- Coordination Number Histrogram: Neighbor Specific Coordination Number\n",
    "- Sharing Patterns Histogram\n",
    "- Sharing Patterns Heatmap"
   ]
  },
  {
   "cell_type": "markdown",
   "metadata": {},
   "source": [
    "##### Average Coordination Number Histogram"
   ]
  },
  {
   "cell_type": "code",
   "execution_count": null,
   "metadata": {},
   "outputs": [],
   "source": [
    "# Plot average coordination numbers\n",
    "analyzer.plot_average_coordination_numbers()\n",
    "\n",
    "# # Plot coordination number distribution\n",
    "# analyzer.plot_coordination_number_distribution()"
   ]
  },
  {
   "cell_type": "markdown",
   "metadata": {},
   "source": [
    "##### Coordination Number Heatmap"
   ]
  },
  {
   "cell_type": "code",
   "execution_count": null,
   "metadata": {},
   "outputs": [],
   "source": [
    "# Define the central element and neighbor elements\n",
    "central_element = 'Pb'\n",
    "neighbor_elements = ['I', 'O']  # Exactly two neighbor elements\n",
    "\n",
    "# Define the ranges for coordination numbers\n",
    "x_range = (0, 6)  # For 'I' coordination numbers ranging from 0 to 8\n",
    "y_range = (0, 8)  # For 'O' coordination numbers ranging from 0 to 8\n",
    "\n",
    "# Call the method to calculate and plot the heatmap\n",
    "analyzer.calculate_and_plot_coordination_heatmap_from_data(\n",
    "    central_element=central_element,\n",
    "    neighbor_elements=neighbor_elements,\n",
    "    x_range=x_range,\n",
    "    y_range=y_range\n",
    ")"
   ]
  },
  {
   "cell_type": "markdown",
   "metadata": {},
   "source": [
    "##### Coordination Number Histogram\n",
    "Plot 1: Coordination number distribution by total coordination number. Fractional bins provide information on constituents coordinating to form that total coordination number.\n",
    "\n",
    "Plot 2: Neighbor specific coordination number. Pass the neighbor_atom you want to rebin. Color schemes preserved from Plot 1 in the rebinning process."
   ]
  },
  {
   "cell_type": "code",
   "execution_count": null,
   "metadata": {},
   "outputs": [],
   "source": [
    "# Prepare the coordination distribution data\n",
    "analyzer.prepare_coordination_distribution_data()\n",
    "\n",
    "# Use Case 1: Plot Coordination Number Distribution\n",
    "analyzer.plot_coordination_number_distribution()\n",
    "## Update this to use all white font, rather than dynamic font color?\n",
    "\n",
    "# # Use Case 2: Plot Neighbor Atom Distribution for 'I'\n",
    "analyzer.plot_neighbor_atom_distribution(neighbor_atom='I')"
   ]
  },
  {
   "cell_type": "markdown",
   "metadata": {},
   "source": [
    "##### Test Sharing Patterns Distribution Calculation"
   ]
  },
  {
   "cell_type": "code",
   "execution_count": null,
   "metadata": {},
   "outputs": [],
   "source": [
    "# Run the coordination calculation\n",
    "coordination_stats, sharing_patterns = analyzer.calculate_coordination_stats_by_subfolder(\n",
    "    sorted_pdb_folder=sorted_pdb_folder,\n",
    "    target_elements=target_elements,\n",
    "    neighbor_elements=neighbor_elements,\n",
    "    distance_thresholds=distance_thresholds\n",
    ")\n",
    "\n",
    "# Access sharing pattern instances\n",
    "instances = analyzer.sharing_pattern_instances\n",
    "\n",
    "# For example, print the first instance\n",
    "first_instance = instances[0]\n",
    "print(\"First Sharing Instance:\")\n",
    "print(f\"Number of Targets: {first_instance['num_targets']}\")\n",
    "print(f\"Target Atom IDs: {first_instance['target_atom_ids']}\")\n",
    "print(f\"Number of Neighbors: {first_instance['num_neighbors']}\")\n",
    "print(f\"Neighbor Atom IDs: {first_instance['neighbor_atom_ids']}\")\n",
    "print(f\"Pattern: {first_instance['pattern']}\")\n",
    "print(f\"PDB File: {first_instance['pdb_file']}\")\n"
   ]
  },
  {
   "cell_type": "markdown",
   "metadata": {},
   "source": [
    "##### Sharing Pattern Distributions"
   ]
  },
  {
   "cell_type": "code",
   "execution_count": null,
   "metadata": {},
   "outputs": [],
   "source": [
    "# After running calculate_coordination_stats_by_subfolder\n",
    "coordination_stats, sharing_patterns = analyzer.calculate_coordination_stats_by_subfolder(\n",
    "    sorted_pdb_folder=sorted_pdb_folder,\n",
    "    target_elements=target_elements,\n",
    "    neighbor_elements=neighbor_elements,\n",
    "    distance_thresholds=distance_thresholds\n",
    ")\n",
    "\n",
    "# analyzer.plot_sharing_pattern_histogram(sharing_patterns, neighbor_atom='I')\n",
    "analyzer.plot_sharing_pattern_histogram(sharing_patterns, target_atom='Pb', color_palette='tab20b')\n",
    "## Update this eliminate degeneracy in counting sharing motifs. Seems like all atoms are being counted as 1_0 sharing."
   ]
  },
  {
   "cell_type": "markdown",
   "metadata": {},
   "source": [
    "##### Sharing Patterns Heatmap\n",
    "Note: This method is still not refined."
   ]
  },
  {
   "cell_type": "code",
   "execution_count": null,
   "metadata": {},
   "outputs": [],
   "source": [
    "# Plot the sharing patterns heatmap\n",
    "analyzer.plot_sharing_patterns_heatmap(sharing_patterns)"
   ]
  },
  {
   "cell_type": "markdown",
   "metadata": {},
   "source": [
    "##### Testing Annotation Styles"
   ]
  },
  {
   "cell_type": "code",
   "execution_count": null,
   "metadata": {},
   "outputs": [],
   "source": [
    "import matplotlib.pyplot as plt\n",
    "import numpy as np\n",
    "\n",
    "def test_multiple_L_annotations_multiple_bars():\n",
    "    \"\"\"\n",
    "    Creates a test histogram with multiple main bars, each containing multiple smaller fractional blocks.\n",
    "    Annotates small blocks externally with 'L' shapes of different lengths and staggered vertically\n",
    "    to prevent overlapping within the same bar and with neighboring bars.\n",
    "    The lowest 'L' in each bar is the widest and has the longest vertical stem, and each subsequent\n",
    "    'L' above it is narrower and has a slightly shorter vertical stem.\n",
    "    \"\"\"\n",
    "    # Sample data for two coordination numbers\n",
    "    coordination_numbers = [3, 4]  # Two coordination numbers for demonstration\n",
    "\n",
    "    # Fractional blocks for each coordination number: (Element, Count)\n",
    "    fractional_blocks = {\n",
    "        3: [\n",
    "            ('A', 50),  # Large block\n",
    "            ('B', 2),   # Small block 1\n",
    "            ('C', 1)    # Small block 2\n",
    "        ],\n",
    "        4: [\n",
    "            ('A', 80),  # Large block\n",
    "            ('B', 4),   # Small block 1\n",
    "            ('C', 3),   # Small block 2\n",
    "            ('D', 2)    # Small block 3\n",
    "        ]\n",
    "    }\n",
    "\n",
    "    # Define colors for elements\n",
    "    element_colors = {\n",
    "        'A': 'skyblue',\n",
    "        'B': 'salmon',\n",
    "        'C': 'lightgreen',\n",
    "        'D': 'violet'\n",
    "    }\n",
    "\n",
    "    # Percentage threshold for external annotations\n",
    "    threshold = 5.0  # Percentages below this will be annotated externally\n",
    "\n",
    "    # Calculate total counts for each coordination number\n",
    "    total_counts = {}\n",
    "    for coord_num, blocks in fractional_blocks.items():\n",
    "        total = sum(count for elem, count in blocks)\n",
    "        total_counts[coord_num] = total\n",
    "\n",
    "    # Calculate y_max for the plot to accommodate all annotations\n",
    "    max_total = max(total_counts.values())\n",
    "    y_max = max_total * 2  # Increased buffer to accommodate multiple annotations\n",
    "\n",
    "    # Initialize the plot\n",
    "    fig, ax = plt.subplots(figsize=(16, 10))\n",
    "    ax.set_ylim(0, y_max)\n",
    "\n",
    "    # Bar width and spacing\n",
    "    bar_width = 0.6\n",
    "    bar_spacing = 1.5  # Space between bars to prevent overlapping of annotations\n",
    "\n",
    "    # Define 'L' shape parameters\n",
    "    L_base_width = 0.3        # Width of the widest 'L'\n",
    "    L_decrement = 0.05         # Decrease in width for each subsequent 'L'\n",
    "    L_base_stem_length = 2.0   # Base stem length for the lowest 'L'\n",
    "    L_stem_decrement = 0.3     # Decrease in stem length for each subsequent 'L'\n",
    "    margin_between_Ls = 0.2    # Vertical margin between 'L' annotations to prevent overlap\n",
    "\n",
    "    # Plot each main bar with fractional blocks\n",
    "    for idx, coord_num in enumerate(coordination_numbers):\n",
    "        blocks = fractional_blocks.get(coord_num, [])\n",
    "        bottoms = 0\n",
    "        # Extract small blocks and sort them from bottom to top\n",
    "        small_blocks = [blk for blk in blocks if (blk[1] / total_counts[coord_num]) * 100 < threshold]\n",
    "        num_small_blocks = len(small_blocks)\n",
    "        \n",
    "        # Initialize current_y for tracking top of last 'L' in this bar\n",
    "        current_y = 0\n",
    "\n",
    "        for blk_idx, (elem, count) in enumerate(blocks):\n",
    "            pct = (count / total_counts[coord_num]) * 100\n",
    "            color = element_colors.get(elem, 'grey')\n",
    "            ax.bar(coord_num, count, bottom=bottoms, color=color, edgecolor='black', width=bar_width)\n",
    "\n",
    "            if pct >= threshold:\n",
    "                # Annotate inside the bar\n",
    "                ax.text(\n",
    "                    coord_num,\n",
    "                    bottoms + count / 2,\n",
    "                    f\"{pct:.1f}%\",\n",
    "                    ha='center',\n",
    "                    va='center',\n",
    "                    color='white',\n",
    "                    fontsize=12,\n",
    "                    fontweight='bold'\n",
    "                )\n",
    "            else:\n",
    "                # Annotate externally with 'L' shape\n",
    "                # Calculate 'L' width and stem length based on annotation order\n",
    "                # Lower 'L's are wider and have longer stems\n",
    "                L_width = L_base_width - blk_idx * L_decrement\n",
    "                L_width = max(L_width, 0.1)  # Ensure 'L' width doesn't become negative\n",
    "\n",
    "                L_stem_length = L_base_stem_length - blk_idx * L_stem_decrement\n",
    "                L_stem_length = max(L_stem_length, 1.0)  # Ensure 'L' stem length doesn't become too short\n",
    "\n",
    "                # Calculate positions\n",
    "                bar_edge_x = coord_num + bar_width / 2  # Right edge of the bar\n",
    "                y_bottom = bottoms\n",
    "                y_top = bottoms + count\n",
    "\n",
    "                # 'L' originates from the right edge, centered vertically on the small block\n",
    "                L_y_origin = y_bottom + count / 2\n",
    "\n",
    "                # Adjust 'L' y_origin based on current_y to prevent overlap\n",
    "                # If the 'L' would overlap with the previous one, shift it upwards\n",
    "                desired_y = L_y_origin\n",
    "                if desired_y < current_y + margin_between_Ls:\n",
    "                    L_y_origin = current_y + margin_between_Ls\n",
    "                else:\n",
    "                    L_y_origin = desired_y\n",
    "\n",
    "                # Update current_y to the top of this 'L'\n",
    "                current_y = L_y_origin + L_stem_length\n",
    "\n",
    "                # Draw horizontal part of 'L' (to the right)\n",
    "                ax.plot(\n",
    "                    [bar_edge_x, bar_edge_x + L_width],\n",
    "                    [L_y_origin, L_y_origin],\n",
    "                    color='black', linewidth=1.5\n",
    "                )\n",
    "                # Draw vertical part of 'L' (upwards)\n",
    "                ax.plot(\n",
    "                    [bar_edge_x + L_width, bar_edge_x + L_width],\n",
    "                    [L_y_origin, L_y_origin + L_stem_length],\n",
    "                    color='black', linewidth=1.5\n",
    "                )\n",
    "\n",
    "                # Place the percentage annotation at the end of the stem line\n",
    "                ax.text(\n",
    "                    bar_edge_x + L_width,\n",
    "                    L_y_origin + L_stem_length + 0.1,  # Slightly above the stem line\n",
    "                    f\"{pct:.1f}%\",\n",
    "                    ha='center',\n",
    "                    va='bottom',\n",
    "                    color='black',\n",
    "                    fontsize=12,\n",
    "                    fontweight='bold'\n",
    "                )\n",
    "\n",
    "            bottoms += count  # Update the bottom for the next fractional block\n",
    "\n",
    "    # Add total percentage annotations at the top of each main bar\n",
    "    grand_total = sum(total_counts.values())\n",
    "    for coord_num in coordination_numbers:\n",
    "        total = total_counts[coord_num]\n",
    "        total_pct = (total / grand_total) * 100\n",
    "        ax.text(\n",
    "            coord_num,\n",
    "            total + y_max * 0.02,  # Slightly above the bar\n",
    "            f\"{total_pct:.1f}%\",\n",
    "            ha='center',\n",
    "            va='bottom',\n",
    "            color='black',\n",
    "            fontsize=14,\n",
    "            fontweight='bold'\n",
    "        )\n",
    "\n",
    "    # Set labels and title\n",
    "    ax.set_xlabel('Coordination Number', fontsize=16)\n",
    "    ax.set_ylabel('Count', fontsize=16)\n",
    "    ax.set_title('Histogram with Multiple External Annotations (\\'L\\' Shapes)', fontsize=18)\n",
    "\n",
    "    # Set x-axis ticks\n",
    "    ax.set_xticks(coordination_numbers)\n",
    "\n",
    "    # Remove spines for a cleaner look\n",
    "    ax.spines['top'].set_visible(False)\n",
    "    ax.spines['right'].set_visible(False)\n",
    "\n",
    "    # Enhance grid lines\n",
    "    ax.yaxis.grid(True, linestyle='--', which='major', color='grey', alpha=0.7)\n",
    "\n",
    "    # Adjust y-axis limits to accommodate annotations\n",
    "    ax.set_ylim(0, y_max)\n",
    "\n",
    "    plt.tight_layout()\n",
    "    plt.show()\n",
    "\n",
    "# Run the corrected test function\n",
    "test_multiple_L_annotations_multiple_bars()\n"
   ]
  }
 ],
 "metadata": {
  "kernelspec": {
   "display_name": "pdfreduce",
   "language": "python",
   "name": "python3"
  },
  "language_info": {
   "codemirror_mode": {
    "name": "ipython",
    "version": 3
   },
   "file_extension": ".py",
   "mimetype": "text/x-python",
   "name": "python",
   "nbconvert_exporter": "python",
   "pygments_lexer": "ipython3",
   "version": "3.11.6"
  }
 },
 "nbformat": 4,
 "nbformat_minor": 2
}
