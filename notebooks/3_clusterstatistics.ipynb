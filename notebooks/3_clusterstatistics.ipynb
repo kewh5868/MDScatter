{
 "cells": [
  {
   "cell_type": "markdown",
   "metadata": {},
   "source": [
    "# Step 3: Cluster Distribution Statistical Analysis\n",
    "Calculate statstical information on cluster distributions isolated in the 'Step 2' Cluster Network Isolation notebook. \n",
    "\n",
    "---\n",
    "Here, we can compute information such as:\n",
    "\n",
    "- Coordination Number Distributions\n",
    "- Bond Length, Angle Distributions\n",
    "- Volume Distributions\n",
    "- Cluster Atom Count Distributions\n",
    "- Volume Fraction (Scattering) Contributions"
   ]
  },
  {
   "cell_type": "markdown",
   "metadata": {},
   "source": [
    "## Custom Imports\n",
    "Relative import the custom classes to support the cluster network tool."
   ]
  },
  {
   "cell_type": "code",
   "execution_count": null,
   "metadata": {},
   "outputs": [],
   "source": [
    "# Import and run the setup script\n",
    "import sys, os\n",
    "import numpy as np\n",
    "\n",
    "# Ensure the project root is in sys.path to locate setup_env\n",
    "project_root = os.path.abspath(os.path.join(os.getcwd(), '..'))\n",
    "if project_root not in sys.path:\n",
    "    sys.path.append(project_root)\n",
    "\n",
    "# Import the setup helper and configure the environment\n",
    "from setup_env import setup_environment\n",
    "\n",
    "# Capture the imported classes from setup_environment\n",
    "PDBEditor, TrajectoryProcessor, PDBFileHandler, Atom, ClusterNetwork, ClusterBatchAnalyzer = setup_environment()"
   ]
  },
  {
   "cell_type": "markdown",
   "metadata": {
    "vscode": {
     "languageId": "plaintext"
    }
   },
   "source": [
    "## Cluster Single Frame Analysis"
   ]
  },
  {
   "cell_type": "markdown",
   "metadata": {},
   "source": [
    "### Bond Length and Angle Distributions"
   ]
  },
  {
   "cell_type": "code",
   "execution_count": null,
   "metadata": {},
   "outputs": [],
   "source": [
    "# Define the path to the PDB file and initialize the handler\n",
    "pdb_file_path = '/Users/keithwhite/repos/MDScatter/data/example/frame_0001.pdb'\n",
    "core_residue_names = ['PBI']\n",
    "shell_residue_names = ['DMS']\n",
    "pdb_handler = PDBFileHandler(pdb_file_path, core_residue_names, shell_residue_names)\n",
    "\n",
    "# Initialize ClusterNetwork with relevant parameters\n",
    "node_elements = ['Pb']\n",
    "linker_elements = ['Pb', 'I']\n",
    "terminator_elements = ['I']\n",
    "segment_cutoff = 3.7\n",
    "cluster_network = ClusterNetwork(\n",
    "    pdb_handler.core_atoms,\n",
    "    pdb_handler.shell_atoms,\n",
    "    node_elements,\n",
    "    linker_elements,\n",
    "    terminator_elements,\n",
    "    segment_cutoff,\n",
    "    core_residue_names,\n",
    "    shell_residue_names\n",
    ")\n",
    "\n",
    "# Analyze networks\n",
    "networks = cluster_network.analyze_networks()\n",
    "\n",
    "# Specify bond lengths and angles to calculate\n",
    "# bond_length_pairs = [('Pb', 'I', 3.8), ('I', 'I', 7.6)]\n",
    "bond_length_pairs = [('Pb', 'I', 3.8)] #, ('I', 'I', 7.6)]\n",
    "bond_angle_triplets = [('I', 'Pb', 'I', 3.8)]\n",
    "\n",
    "# Calculate and plot distributions\n",
    "cluster_network.calculate_and_plot_distributions(bond_length_pairs, bond_angle_triplets)"
   ]
  },
  {
   "cell_type": "markdown",
   "metadata": {},
   "source": [
    "### Coordination Number Distributions"
   ]
  },
  {
   "cell_type": "code",
   "execution_count": null,
   "metadata": {},
   "outputs": [],
   "source": [
    "# Calculate coordination numbers\n",
    "target_elements = ['Pb']\n",
    "neighbor_elements = ['I', 'O']\n",
    "distance_thresholds = {('Pb', 'I'): 3.8, ('Pb', 'O'): 3}\n",
    "coordination_stats, total_stats = cluster_network.calculate_coordination_numbers(target_elements, neighbor_elements, distance_thresholds)\n",
    "\n",
    "# Print coordination numbers\n",
    "cluster_network.print_coordination_numbers(coordination_stats, total_stats)"
   ]
  },
  {
   "cell_type": "markdown",
   "metadata": {},
   "source": [
    "### Coordination Number Heatmap"
   ]
  },
  {
   "cell_type": "code",
   "execution_count": null,
   "metadata": {},
   "outputs": [],
   "source": [
    "# Define parameters for the heatmap\n",
    "central_element = 'Pb'\n",
    "x_pair = ('Pb', 'I')\n",
    "y_pair = ('Pb', 'O')\n",
    "x_range = (1, 6)  # Range for Pb-I coordination number\n",
    "y_range = (1, 6)  # Range for Pb-O coordination number\n",
    "distance_cutoffs = {('Pb', 'I'): 3.6, ('Pb', 'O'): 3}\n",
    "\n",
    "# Calculate and plot the heatmap\n",
    "cluster_network.calculate_and_plot_heatmap(central_element, x_pair, y_pair, x_range, y_range, distance_cutoffs)\n"
   ]
  },
  {
   "cell_type": "markdown",
   "metadata": {},
   "source": [
    "## Cluster Batch Frame Analysis"
   ]
  },
  {
   "cell_type": "markdown",
   "metadata": {},
   "source": [
    "### Setup\n",
    "Checking coordination numbers and elements in Mendeleev data repository to help with input fields for cluster analyzer."
   ]
  },
  {
   "cell_type": "code",
   "execution_count": null,
   "metadata": {},
   "outputs": [],
   "source": [
    "from mendeleev import element\n",
    "\n",
    "# Retrieve the element information for oxygen\n",
    "oxygen = element('I')\n",
    "\n",
    "# Fetch the ionic radii for oxygen in different oxidation states\n",
    "ionic_radii = oxygen.ionic_radii\n",
    "\n",
    "# Print the ionic radii for each oxidation state\n",
    "for ir in ionic_radii:\n",
    "    print(f\"Oxidation State: {ir.charge}, Coordination: {ir.coordination}, Ionic Radius: {ir.ionic_radius} pm\")\n"
   ]
  },
  {
   "cell_type": "markdown",
   "metadata": {},
   "source": [
    "### Calculate Statistics on Cluster Population"
   ]
  },
  {
   "cell_type": "code",
   "execution_count": null,
   "metadata": {},
   "outputs": [],
   "source": [
    "%matplotlib widget\n",
    "\n",
    "# Define parameters for analysis\n",
    "pdb_directory = '/Users/keithwhite/repos/run_fullrmc/md_sim/travis_md_crnb/PbI2_DMSO_0.8M_cr_nb/clusters_pdb'\n",
    "target_elements = ['Pb']\n",
    "neighbor_elements = ['O', 'I']\n",
    "distance_thresholds = {\n",
    "    ('Pb', 'O'): 3.0,  # Example threshold distances in angstroms\n",
    "    ('Pb', 'I'): 3.6\n",
    "}\n",
    "\n",
    "# Define the charge dictionary, ensuring all charges are integers\n",
    "partial_charges = {\n",
    "    'Pb': (2, 6),    # Lead with a charge of 2+ and coordination number of 6\n",
    "    'I': (-1, 6),    # Iodine with a charge of 1- and coordination number of 6\n",
    "    'S': (-2, 6),    # Sulfur in DMSO with a neutral charge and coordination number of 2\n",
    "    'O': (-2, 2),    # Oxygen in DMSO with a charge of 2- and coordination number of 2\n",
    "    'C': (4, 4),     # Carbon in DMSO with a neutral charge and coordination number of 4\n",
    "    'H': (1, 1)      # Hydrogen in DMSO with a neutral charge and coordination number of 1\n",
    "}\n",
    "\n",
    "# Instantiate the ClusterBatchAnalyzer class with the necessary parameters\n",
    "analyzer = ClusterBatchAnalyzer(\n",
    "    pdb_directory=pdb_directory,\n",
    "    target_elements=target_elements,\n",
    "    neighbor_elements=neighbor_elements,\n",
    "    distance_thresholds=distance_thresholds,\n",
    "    charges=partial_charges,\n",
    "    core_residue_names=['PBI'], \n",
    "    shell_residue_names=['DMS'],\n",
    "    volume_method='radius_of_gyration'  # Choose the radius of gyration method\n",
    ")\n",
    "\n",
    "# Step 1: Analyze clusters to compute coordination numbers and volumes\n",
    "# Specify shape_type='sphere' to use spherical approximation with radius of gyration\n",
    "coordination_stats_per_size = analyzer.analyze_clusters(shape_type='sphere')\n",
    "# coordination_stats_per_size = analyzer.analyze_clusters(shape_type='ellipsoid')\n",
    "\n",
    "# Step 2: Define a range of q-values in inverse angstroms\n",
    "q_values = np.linspace(0.01, 1.4, 1000)\n",
    "\n",
    "# Step 3: Plot the total I(q) vs. q on a log-log scale\n",
    "analyzer.plot_total_iq(q_values)\n",
    "analyzer.save_total_iq(q_values)\n",
    "\n",
    "# Additional Steps (Optional):\n",
    "# If you want to visualize the average volume vs. cluster size using the radius of gyration,\n",
    "# you can call the corresponding plot method:\n",
    "analyzer.plot_average_volume_vs_cluster_size_rg()\n"
   ]
  }
 ],
 "metadata": {
  "kernelspec": {
   "display_name": "pdfreduce",
   "language": "python",
   "name": "python3"
  },
  "language_info": {
   "codemirror_mode": {
    "name": "ipython",
    "version": 3
   },
   "file_extension": ".py",
   "mimetype": "text/x-python",
   "name": "python",
   "nbconvert_exporter": "python",
   "pygments_lexer": "ipython3",
   "version": "3.11.6"
  }
 },
 "nbformat": 4,
 "nbformat_minor": 2
}
