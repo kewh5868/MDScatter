{
 "cells": [
  {
   "cell_type": "markdown",
   "metadata": {},
   "source": [
    "# Tools to Support MD Cluster Analysis\n",
    "- Determine the atoms/molecules per volume for a known solute mass fraction.\n",
    "\n",
    "---"
   ]
  },
  {
   "cell_type": "markdown",
   "metadata": {},
   "source": [
    "## Custom Imports\n",
    "Relative import the custom classes to support the cluster network tool."
   ]
  },
  {
   "cell_type": "code",
   "execution_count": null,
   "metadata": {},
   "outputs": [],
   "source": [
    "# Import and run the setup script\n",
    "import sys, os\n",
    "import numpy as np\n",
    "\n",
    "# Ensure the project root is in sys.path to locate setup_env\n",
    "project_root = os.path.abspath(os.path.join(os.getcwd(), '..'))\n",
    "if project_root not in sys.path:\n",
    "    sys.path.append(project_root)\n",
    "\n",
    "# Import the setup helper and configure the environment\n",
    "from setup_env import setup_environment\n",
    "\n",
    "# Capture the imported classes from setup_environment\n",
    "BulkVolumeParams, BulkVolume, RadiusOfGyrationCalculator, PDBEditor, TrajectoryProcessor, PDBFileHandler, Atom, ClusterNetwork, ClusterBatchAnalyzer = setup_environment()"
   ]
  },
  {
   "cell_type": "markdown",
   "metadata": {},
   "source": [
    "## Determine the Atoms/Molecules per Volume"
   ]
  },
  {
   "cell_type": "code",
   "execution_count": null,
   "metadata": {},
   "outputs": [],
   "source": [
    "# Sample Input Parameters\n",
    "## PbI2 DMSO Samples\n",
    "density_neat_solvent = 1.1   # g/cm³ for DMSO\n",
    "molar_mass_solvent = 78.13   # g/mol for DMSO\n",
    "molar_mass_solute = 461.0    # g/mol for PbI2\n",
    "\n",
    "# mass_percent_solute = 4.06  # 0.1 M PbI2\n",
    "# total_mass = 1.142           # grams of solution (default)\n",
    "# density_solution = 1.142      # g/cm³\n",
    "\n",
    "mass_percent_solute = 25.83  # 0.8 M PbI2\n",
    "# total_mass = 1.403           # grams of solution (default)\n",
    "# density_solution = 1.403      # g/cm³\n",
    "total_mass = 1.1           # grams of solution (default)\n",
    "density_solution = 1.1      # g/cm³\n",
    "\n",
    "'''\n",
    "# mass_percent_solute = 14.65  # 0.4 M PbI2\n",
    "# total_mass = 1.273           # grams of solution (default)\n",
    "# density_solution = 1.273      # g/cm³\n",
    "\n",
    "# mass_percent_solute = 25.83  # 0.8 M PbI2\n",
    "# total_mass = 1.403           # grams of solution (default)\n",
    "# density_solution = 1.403      # g/cm³\n",
    "\n",
    "## PbI2 DMF Samples\n",
    "# density_neat_solvent = 0.944   # g/cm³ for DMF\n",
    "# molar_mass_solvent = 73.09   # g/mol for DMF\n",
    "# molar_mass_solute = 461.0    # g/mol for PbI2\n",
    "\n",
    "# mass_percent_solute = 19.75  # 0.5 M PbI2\n",
    "# total_mass = 1.144           # grams of solution (default)\n",
    "# density_solution = 1.144      # g/cm³\n",
    "\n",
    "# mass_percent_solute = 4.61  # 0.1 M PbI2\n",
    "# total_mass = 0.993           # grams of solution (default)\n",
    "# density_solution = 0.993      # g/cm³\n",
    "'''\n",
    "\n",
    "ionic_radii = {\n",
    "    'Pb2+': 1.19,  # angstroms\n",
    "    'I-': 2.20     # angstroms\n",
    "}\n",
    "stoichiometry = {\n",
    "    'Pb2+': 1,\n",
    "    'I-': 2\n",
    "}\n",
    "atomic_masses = {\n",
    "    'Pb2+': 207.2,  # g/mol\n",
    "    'I-': 126.9      # g/mol\n",
    "}\n",
    "\n",
    "# Instantiate the VolumeEstimatorWithMassPercent\n",
    "volume_estimator = BulkVolume(\n",
    "    mass_percent_solute=mass_percent_solute,\n",
    "    density_solution=density_solution,\n",
    "    density_neat_solvent=density_neat_solvent,\n",
    "    molar_mass_solvent=molar_mass_solvent,\n",
    "    molar_mass_solute=molar_mass_solute,\n",
    "    ionic_radii=ionic_radii,\n",
    "    stoichiometry=stoichiometry,\n",
    "    atomic_masses=atomic_masses,\n",
    "    total_mass=total_mass  # Optional: defaults to 100 g\n",
    ")\n",
    "\n",
    "# Perform Volume Estimation\n",
    "volumes = volume_estimator.estimate_volumes()\n",
    "\n",
    "# Display the Volumes\n",
    "print(\"\\nEstimated Volumes (in cubic angstroms, Å³):\")\n",
    "for component, volume in volumes.items():\n",
    "    print(f\"{component}: {volume:.4e} Å³\")\n",
    "\n",
    "# Define Box Dimensions\n",
    "box_side_A3 = 51.02  # angstroms (Å)\n",
    "\n",
    "# Estimate Atoms/Molecules in the Box and Calculate Estimated Density\n",
    "atoms_in_box, estimated_density = volume_estimator.estimate_atoms_in_box(box_side_A3)\n",
    "\n",
    "# Display the Atoms/Molecules in the Box\n",
    "print(\"\\nEstimated Number of Atoms/Molecules in the Box:\")\n",
    "for component, count in atoms_in_box.items():\n",
    "    print(f\"{component}: {count}\")\n",
    "\n",
    "# Display the Estimated Density\n",
    "print(f\"\\nEstimated Density in the Box: {estimated_density:.6f} g/cm³\")\n"
   ]
  },
  {
   "cell_type": "code",
   "execution_count": null,
   "metadata": {},
   "outputs": [],
   "source": []
  }
 ],
 "metadata": {
  "kernelspec": {
   "display_name": "pdfreduce",
   "language": "python",
   "name": "python3"
  },
  "language_info": {
   "codemirror_mode": {
    "name": "ipython",
    "version": 3
   },
   "file_extension": ".py",
   "mimetype": "text/x-python",
   "name": "python",
   "nbconvert_exporter": "python",
   "pygments_lexer": "ipython3",
   "version": "3.11.6"
  }
 },
 "nbformat": 4,
 "nbformat_minor": 2
}
