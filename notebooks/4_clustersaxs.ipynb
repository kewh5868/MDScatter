{
 "cells": [
  {
   "cell_type": "markdown",
   "metadata": {},
   "source": [
    "# Step 4: SAXS Calculation from Cluster Distributions\n",
    "Calculate the small-angle X-ray scattering (SAXS) of cluster network distributions.\n",
    "\n",
    "---"
   ]
  },
  {
   "cell_type": "markdown",
   "metadata": {},
   "source": [
    "## Custom Imports\n",
    "Relative import the custom classes to support the cluster network tool."
   ]
  },
  {
   "cell_type": "code",
   "execution_count": null,
   "metadata": {},
   "outputs": [],
   "source": [
    "# Import and run the setup script\n",
    "import sys, os\n",
    "import numpy as np\n",
    "from typing import TypedDict, Optional, Dict\n",
    "\n",
    "# Ensure the project root is in sys.path to locate setup_env\n",
    "project_root = os.path.abspath(os.path.join(os.getcwd(), '..'))\n",
    "if project_root not in sys.path:\n",
    "    sys.path.append(project_root)\n",
    "\n",
    "# Import the setup helper and configure the environment\n",
    "from setup_env import setup_environment\n",
    "\n",
    "# Capture the imported classes from setup_environment\n",
    "BulkVolumeParams, BulkVolume, RadiusOfGyrationCalculator, PDBEditor, TrajectoryProcessor, PDBFileHandler, Atom, ClusterNetwork, ClusterBatchAnalyzer = setup_environment()"
   ]
  },
  {
   "cell_type": "markdown",
   "metadata": {},
   "source": [
    "# SAXS Cluster Batch Analysis"
   ]
  },
  {
   "cell_type": "markdown",
   "metadata": {},
   "source": [
    "#### (Optional) Validate Scattering Volume Estimates"
   ]
  },
  {
   "cell_type": "code",
   "execution_count": null,
   "metadata": {},
   "outputs": [],
   "source": [
    "# Sample Input Parameters\n",
    "## PbI2 in DMSO Sample\n",
    "solvent_name = 'DMS'\n",
    "density_neat_solvent = 1.1    # g/cm³ for DMSO\n",
    "molar_mass_solvent = 78.13    # g/mol for DMSO\n",
    "molar_mass_solute = 461.0     # g/mol for PbI2\n",
    "\n",
    "mass_percent_solute = 25.83   # 25.83% PbI2 by mass (approximately 0.8 M)\n",
    "total_mass = 1.403            # grams of solution\n",
    "density_solution = 1.403       # g/cm³\n",
    "\n",
    "ionic_radii = {\n",
    "    'Pb': 1.19,   # angstroms\n",
    "    'I': 2.20      # angstroms\n",
    "}\n",
    "stoichiometry = {\n",
    "    'Pb': 1,\n",
    "    'I': 2\n",
    "}\n",
    "atomic_masses = {\n",
    "    'Pb': 207.2,   # g/mol\n",
    "    'I': 126.9      # g/mol\n",
    "}\n",
    "solute_residues = {\n",
    "    'Pb': 'PBI',\n",
    "    'I': 'PBI'\n",
    "}\n",
    "\n",
    "# Instantiate the BulkVolume class with the solvent name 'DMS' for DMSO\n",
    "bulk_volume = BulkVolume(\n",
    "    mass_percent_solute=mass_percent_solute,\n",
    "    density_solution=density_solution,\n",
    "    density_neat_solvent=density_neat_solvent,\n",
    "    molar_mass_solvent=molar_mass_solvent,\n",
    "    molar_mass_solute=molar_mass_solute,\n",
    "    ionic_radii=ionic_radii,\n",
    "    stoichiometry=stoichiometry,\n",
    "    atomic_masses=atomic_masses,\n",
    "    solute_residues=solute_residues,\n",
    "    solvent_name=solvent_name,       # 3-letter uppercase string for DMSO\n",
    "    total_mass=total_mass     # Optional: defaults to 100 g if not specified\n",
    ")\n",
    "\n",
    "# Perform Volume Estimation\n",
    "volumes = bulk_volume.estimate_volumes()"
   ]
  },
  {
   "cell_type": "markdown",
   "metadata": {},
   "source": [
    "### Setup for Electron Density Contrast Calculations"
   ]
  },
  {
   "cell_type": "code",
   "execution_count": null,
   "metadata": {},
   "outputs": [],
   "source": [
    "# Example electrons information to be added\n",
    "electrons_info = {\n",
    "    'DMS': {\n",
    "        'Solvent': 42  # Example: DMSO solvent molecule has 42 electrons\n",
    "    },\n",
    "    'PBI': {\n",
    "        'Pb': 80,     # Example: Pb2+ ion has 80 electrons\n",
    "        'I': 54        # Example: I- ion has 54 electrons\n",
    "    }\n",
    "}\n",
    "\n",
    "# Update the volumes dictionary with electrons per unit\n",
    "updated_volumes = bulk_volume.add_electrons_per_unit(electrons_info)\n",
    "\n",
    "# Optionally, print the updated volumes dictionary\n",
    "import pprint\n",
    "print(\"\\nUpdated Volumes with Electrons:\")\n",
    "pprint.pprint(updated_volumes)\n",
    "\n",
    "# Calculate electron density of the solution (solvent)\n",
    "electron_density_solution = bulk_volume.calculate_solution_electron_density(electrons_info)\n",
    "\n",
    "# Optionally, print the electron density dictionary for the solution\n",
    "print(\"\\nElectron Density of the Solution (Solvent):\")\n",
    "pprint.pprint(electron_density_solution)"
   ]
  },
  {
   "cell_type": "markdown",
   "metadata": {},
   "source": [
    "### Initialize Cluster Batch Analyzer"
   ]
  },
  {
   "cell_type": "markdown",
   "metadata": {},
   "source": [
    "#### Batch Analyzer Settings"
   ]
  },
  {
   "cell_type": "code",
   "execution_count": 2,
   "metadata": {},
   "outputs": [],
   "source": [
    "%matplotlib widget\n",
    "\n",
    "## -- DEFINE THE PDB FOLDER PATH\n",
    "pdb_directory = '/Users/keithwhite/repos/MDScatter/data/PbI2_DMSO_0p8M_cr_nb/clusters_pdb_sc3p7_PbO-3'\n",
    "\n",
    "## -- SETUP FOR FIRST COORDINATION SHELL\n",
    "target_elements = ['Pb']\n",
    "neighbor_elements = ['O', 'I']\n",
    "distance_thresholds = {\n",
    "    ('Pb', 'O'): 3.0,  # Threshold distance in angstroms\n",
    "    ('Pb', 'I'): 3.7\n",
    "}\n",
    "\n",
    "## -- FOR CHARGE DISTRIBUTION CALCULATION\n",
    "partial_charges = {\n",
    "    'Pb': (2, 6),    # Lead with a charge of +2 and coordination number of 6\n",
    "    'I': (-1, 1),    # Iodine with a charge of -1 and coordination number of 1\n",
    "    'S': (0, 4),     # Sulfur in DMSO with a neutral charge and coordination number of 4\n",
    "    'O': (0, 2),     # Oxygen in DMSO with a neutral charge and coordination number of 2\n",
    "    'C': (0, 4),     # Carbon in DMSO with a neutral charge and coordination number of 4\n",
    "    'H': (0, 1)      # Hydrogen in DMSO with a neutral charge and coordination number of 1\n",
    "}\n",
    "\n",
    "## -- DEFINE THE PARAMETERS FOR BULK VOLUME ESTIMATION FROM EXPERIMENTAL MEASUREMENTS\n",
    "BulkVolumeParams = {\n",
    "    'mass_percent_solute': 25.83,\n",
    "    'density_solution': 1.403,          # g/cm³\n",
    "    'density_neat_solvent': 1.1,        # g/cm³\n",
    "    'molar_mass_solvent': 78.13,        # g/mol for DMSO\n",
    "    'molar_mass_solute': 461.0,         # g/mol for PbI₂\n",
    "    'ionic_radii': {\n",
    "        'Pb': 1.19,    # Ionic radius in Å\n",
    "        'I': 2.20\n",
    "    },\n",
    "    'stoichiometry': {\n",
    "        'Pb': 1,\n",
    "        'I': 2\n",
    "    },\n",
    "    'atomic_masses': {\n",
    "        'Pb': 207.2,   # Atomic mass in g/mol\n",
    "        'I': 126.9\n",
    "    },\n",
    "    'solute_residues': {\n",
    "        'Pb': 'PBI',   # Residue name for solute atoms\n",
    "        'I': 'PBI'\n",
    "    },\n",
    "    'solvent_name': 'DMS',   # 3-letter code for DMSO\n",
    "    'total_mass': 100.0,     # Total mass of the solution in grams\n",
    "    'electrons_info': {\n",
    "        'DMS': {\n",
    "            'Solvent': 42  # Electrons per DMSO molecule\n",
    "        },\n",
    "        'PBI': {\n",
    "            'Pb': 80,     # Electrons per Pb²⁺ ion\n",
    "            'I': 54       # Electrons per I⁻ ion\n",
    "        }\n",
    "    }\n",
    "}"
   ]
  },
  {
   "cell_type": "markdown",
   "metadata": {},
   "source": [
    "#### Initialization"
   ]
  },
  {
   "cell_type": "code",
   "execution_count": null,
   "metadata": {},
   "outputs": [],
   "source": [
    "# Instantiate the ClusterBatchAnalyzer class with the necessary parameters\n",
    "analyzer = ClusterBatchAnalyzer(\n",
    "    pdb_directory=pdb_directory,\n",
    "    target_elements=target_elements,\n",
    "    neighbor_elements=neighbor_elements,\n",
    "    distance_thresholds=distance_thresholds,\n",
    "    charges=partial_charges,\n",
    "    core_residue_names=['PBI'], \n",
    "    shell_residue_names=['DMS'],\n",
    "    # volume_method='ionic_radius'  # Choose the ionic radius estimation method\n",
    "    # volume_method='radius_of_gyration'  # Choose the radius of gyration method\n",
    "    volume_method='bulk_volume',  # Choose the radius of gyration method,\n",
    "    bulk_volume_params = BulkVolumeParams\n",
    ")"
   ]
  },
  {
   "cell_type": "markdown",
   "metadata": {},
   "source": [
    "#### Cluster Distribution Estimates"
   ]
  },
  {
   "cell_type": "code",
   "execution_count": null,
   "metadata": {},
   "outputs": [],
   "source": [
    "coordination_stats_per_size = analyzer.analyze_clusters()"
   ]
  },
  {
   "cell_type": "markdown",
   "metadata": {},
   "source": [
    "## Estimate Electron Density Contrast"
   ]
  },
  {
   "cell_type": "code",
   "execution_count": null,
   "metadata": {},
   "outputs": [],
   "source": [
    "## Count the total number of solvent molecules over a set of full MD frame PDB files - total solvent molecules.\n",
    "## Count the total number of solvent molecules over a set of cluster files - coordinated solvent molecules.\n",
    "## Calculate the total fraction of coordinated solvent, and the resulting free solvent molecule count.\n",
    "\n",
    "## Estimate the volume fraction of the free solvent molecules.\n",
    "## Estimate the electron density of the solvent based on the number of free solvent molecules in the estimated volume and electrons per solvent molecule.\n",
    "## Estimate the electron density of each individual cluster from their estimated volume and the electron counts from the unique atoms, as well as the contrast for each cluster to the solvent (delta rho).\n",
    "\n",
    "## Cluster contrast value and solvent electron density value will be used to calculate an f0 scaling function in the SAXS cluster analyzer.\n",
    "\n",
    "## Classes:\n",
    "## Solvent electron density estimation class: \n",
    "### Provide path to set of PDB full MD frames, the residue name of the solvent molecule, and iteratively use the PDBFileHandler and Atom class to count total molecules over all frames.\n",
    "### Estimate the bulk solvent volume using the solvent density and molar mass of the solvent, this is the volume per solvent molecule.\n",
    "### Use the solvent residue name, PDBFileHandler and Atom classes to determine the total number of solvent molecules per frame, and over all frames.\n",
    "### Estimate the total volume of the solvent molecules per frame and over all frames. \n",
    "### Estimate the volume percentage of the solvent molecules per frame and over all frames. This will required knowing the box size for each frame, we can provide the sidewall dimension of the box. \n",
    "### Estimate the electron density from the number of molecules over all frames, electrons per molecule, and total volume of the molecules.\n",
    "\n",
    "## Classes:\n",
    "## Solution electron density estimate: \n",
    "### Provide path to PDB representative of a single MD frame, the residue name of the solvent molecule, and iteratively use the PDBFileHandler and Atom class to count total molecules over all frames.\n",
    "### Estimate the bulk solvent volume using the solvent density and molar mass of the solvent, this is the volume per solvent molecule.\n",
    "### Use the solvent residue name, PDBFileHandler and Atom classes to determine the total number of solvent molecules per frame, and over all frames.\n",
    "### Estimate the total volume of the solvent molecules per frame and over all frames. \n",
    "### Estimate the volume percentage of the solvent molecules per frame and over all frames. This will required knowing the box size for each frame, we can provide the sidewall dimension of the box. \n",
    "### Estimate the electron density from the number of molecules over all frames, electrons per molecule, and total volume of the molecules."
   ]
  },
  {
   "cell_type": "markdown",
   "metadata": {},
   "source": [
    "## Calculate SAXS"
   ]
  },
  {
   "cell_type": "markdown",
   "metadata": {},
   "source": [
    "### Method 1 "
   ]
  },
  {
   "cell_type": "code",
   "execution_count": null,
   "metadata": {},
   "outputs": [],
   "source": [
    "# Step 1: Analyze clusters to compute coordination numbers and volumes\n",
    "# Specify shape_type='sphere' to use spherical approximation with radius of gyration\n",
    "coordination_stats_per_size = analyzer.analyze_clusters(shape_type='sphere')\n",
    "# coordination_stats_per_size = analyzer.analyze_clusters(shape_type='ellipsoid')\n",
    "\n",
    "# Step 2: Define a range of q-values in inverse angstroms\n",
    "q_values = np.linspace(0.01, 1.4, 1000)\n",
    "\n",
    "# Step 3: Plot the total I(q) vs. q on a log-log scale\n",
    "analyzer.plot_total_iq(q_values)\n",
    "analyzer.save_total_iq(q_values)\n",
    "\n",
    "# Additional Steps (Optional):\n",
    "# If you want to visualize the average volume vs. cluster size using the radius of gyration,\n",
    "# you can call the corresponding plot method:\n",
    "analyzer.plot_average_volume_vs_cluster_size_rg()\n"
   ]
  }
 ],
 "metadata": {
  "kernelspec": {
   "display_name": "pdfreduce",
   "language": "python",
   "name": "python3"
  },
  "language_info": {
   "codemirror_mode": {
    "name": "ipython",
    "version": 3
   },
   "file_extension": ".py",
   "mimetype": "text/x-python",
   "name": "python",
   "nbconvert_exporter": "python",
   "pygments_lexer": "ipython3",
   "version": "3.11.6"
  }
 },
 "nbformat": 4,
 "nbformat_minor": 2
}
