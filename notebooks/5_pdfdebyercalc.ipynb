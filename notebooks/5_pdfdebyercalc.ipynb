{
 "cells": [
  {
   "cell_type": "markdown",
   "metadata": {},
   "source": [
    "# Debyer Analysis\n",
    "Python scripts setup in a Jupyter Notebook to enable batch calculation and statistics using the software package Debyer. Debyer is an external software package in C/C++ and needs to be seperately installed (see link below).\n",
    "\n",
    "Use of MDScatter for PDF calculations also warrants the citation of Debyer. \n",
    "\n",
    "Debyer Description: \"Debyer can calculate diffraction pattern (from Debye’s scattering equation), pair distribution function and a few other statistics of an atomistic model.\"\n",
    "\n",
    "Debyer Link: https://debyer.readthedocs.io/en/latest/\n",
    "\n",
    "----------"
   ]
  },
  {
   "cell_type": "markdown",
   "metadata": {},
   "source": [
    "## Custom Imports\n",
    "Relative import the custom classes to support the cluster network tool."
   ]
  },
  {
   "cell_type": "code",
   "execution_count": null,
   "metadata": {},
   "outputs": [],
   "source": [
    "# Import and run the setup script\n",
    "import sys, os\n",
    "import numpy as np\n",
    "from typing import TypedDict, Optional, Dict\n",
    "\n",
    "# Ensure the project root is in sys.path to locate setup_env\n",
    "project_root = os.path.abspath(os.path.join(os.getcwd(), '..'))\n",
    "if project_root not in sys.path:\n",
    "    sys.path.append(project_root)\n",
    "\n",
    "# Import the setup helper and configure the environment\n",
    "from setup_env import setup_environment\n",
    "\n",
    "# Capture the imported classes from setup_environment\n",
    "calculate_number_density, DebyerBatch, prunePDB, BulkVolumeParams, BulkVolume, RadiusOfGyrationCalculator, PDBEditor, TrajectoryProcessor, PDBFileHandler, Atom, ClusterNetwork, ClusterBatchAnalyzer = setup_environment()"
   ]
  },
  {
   "cell_type": "markdown",
   "metadata": {},
   "source": [
    "## Batch Calculate Total G(r)\n",
    "modes: \n",
    "- RDF: Calculate the radial distribution function R(r)\n",
    "- rPDF: Calcualte the 'reduced' PDF G(r), some might call this 'big' G(r)\n",
    "- PDF: Calculate the PDF g(r), some might call this 'little or lil' g(r) [gee-of-arre] (except nobody actually calls it that).\n"
   ]
  },
  {
   "cell_type": "code",
   "execution_count": null,
   "metadata": {},
   "outputs": [],
   "source": [
    "input_folder = 'input/directory/here'\n",
    "output_folder = 'output/directory/here'\n",
    "filename_prefix = 'samplename_numxx_'\n",
    "mode = 'PDF'\n",
    "from_value=0.5\n",
    "to_value=30\n",
    "step_value=0.01\n",
    "ro_value=0.05   ## number density value\n",
    "# cutoff_value=None\n",
    "bounding_box=[50, 50, 50]   ## a, b, c box dimensions\n",
    "\n",
    "debyer = DebyerBatch(input_folder, \n",
    "                    output_folder, \n",
    "                    filename_prefix, \n",
    "                    mode=mode, \n",
    "                    from_value=from_value, \n",
    "                    to_value=to_value, \n",
    "                    step_value=step_value, \n",
    "                    ro_value=ro_value, \n",
    "                    cutoff_value=None, \n",
    "                    bounding_box=bounding_box)"
   ]
  },
  {
   "cell_type": "markdown",
   "metadata": {},
   "source": [
    "## Batch Calculate Partial G(r)"
   ]
  },
  {
   "cell_type": "markdown",
   "metadata": {},
   "source": [
    "### Prune PDB Files \n",
    "Prune based on residue name to conduct a partial G(r) analysis"
   ]
  },
  {
   "cell_type": "code",
   "execution_count": null,
   "metadata": {},
   "outputs": [],
   "source": [
    "input_folder = '/Users/keithwhite/repos/MDScatter/md_sim/md_0924/PbI2_DMSO_0.8M_cr_nb_new/splitpdb'\n",
    "allowed_residues = ['DMS']\n",
    "\n",
    "dms_dms = prunePDB(input_folder, \n",
    "                     allowed_residues=allowed_residues)\n",
    "\n",
    "dms_dms.process_all_files()"
   ]
  },
  {
   "cell_type": "markdown",
   "metadata": {},
   "source": [
    "## Run Debyer"
   ]
  },
  {
   "cell_type": "code",
   "execution_count": null,
   "metadata": {},
   "outputs": [],
   "source": [
    "# input_folder = dms_dms.xyz_folder\n",
    "input_folder = '/Users/keithwhite/repos/MDScatter/md_sim/md_0924/PbI2_DMSO_0.8M_cr_nb_new/splitpdb/converted_xyzs_pruned_DMS'\n",
    "output_folder = '/Users/keithwhite/repos/MDScatter/md_sim/md_0924/PbI2_DMSO_0.8M_cr_nb_new'\n",
    "filename_prefix = 'pbi2dmso_0p8m_dmsdms'\n",
    "mode = 'rPDF'\n",
    "from_value=0.5\n",
    "to_value=30\n",
    "step_value=0.01\n",
    "# cutoff_value=None\n",
    "\n",
    "bounding_box=[53.764, 53.764, 53.764]   ## a, b, c box dimensions\n",
    "ro_value = calculate_number_density(atom_count=10660, box_dimensions=bounding_box)\n",
    "\n",
    "debyer = DebyerBatch(input_folder, \n",
    "                    output_folder, \n",
    "                    filename_prefix, \n",
    "                    mode=mode, \n",
    "                    from_value=from_value, \n",
    "                    to_value=to_value, \n",
    "                    step_value=step_value, \n",
    "                    ro_value=ro_value, \n",
    "                    cutoff_value=None, \n",
    "                    bounding_box=bounding_box)"
   ]
  },
  {
   "cell_type": "code",
   "execution_count": null,
   "metadata": {},
   "outputs": [],
   "source": [
    "debyer.run_debyer()"
   ]
  },
  {
   "cell_type": "code",
   "execution_count": null,
   "metadata": {},
   "outputs": [],
   "source": []
  }
 ],
 "metadata": {
  "kernelspec": {
   "display_name": "pdfreduce",
   "language": "python",
   "name": "python3"
  },
  "language_info": {
   "codemirror_mode": {
    "name": "ipython",
    "version": 3
   },
   "file_extension": ".py",
   "mimetype": "text/x-python",
   "name": "python",
   "nbconvert_exporter": "python",
   "pygments_lexer": "ipython3",
   "version": "3.11.6"
  }
 },
 "nbformat": 4,
 "nbformat_minor": 2
}
