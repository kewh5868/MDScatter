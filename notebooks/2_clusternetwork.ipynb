{
 "cells": [
  {
   "cell_type": "markdown",
   "metadata": {},
   "source": [
    "# Step 2: Cluster Network Identification Tool\n",
    "Used to determine cluster networks, coordination numbers, SAXS patterns from cluster distributions, cluster shape function distributions in PDF."
   ]
  },
  {
   "cell_type": "markdown",
   "metadata": {},
   "source": [
    "## Custom Imports\n",
    "Relative import the custom classes to support the cluster network tool."
   ]
  },
  {
   "cell_type": "code",
   "execution_count": 2,
   "metadata": {},
   "outputs": [
    {
     "name": "stdout",
     "output_type": "stream",
     "text": [
      "Scripts directory '/Users/keithwhite/repos/MDScatter/scripts' has been added to sys.path.\n",
      "Class imports have been set up.\n"
     ]
    }
   ],
   "source": [
    "# Import and run the setup script\n",
    "import sys, os\n",
    "import numpy as np\n",
    "\n",
    "# Ensure the project root is in sys.path to locate setup_env\n",
    "project_root = os.path.abspath(os.path.join(os.getcwd(), '..'))\n",
    "if project_root not in sys.path:\n",
    "    sys.path.append(project_root)\n",
    "\n",
    "# Import the setup helper and configure the environment\n",
    "from setup_env import setup_environment\n",
    "\n",
    "# Capture the imported classes from setup_environment\n",
    "RadiusOfGyrationCalculator, PDBEditor, TrajectoryProcessor, PDBFileHandler, Atom, ClusterNetwork, ClusterBatchAnalyzer = setup_environment()"
   ]
  },
  {
   "cell_type": "markdown",
   "metadata": {},
   "source": [
    "## Cluster Network Identification\n",
    "Description: Used to identify and parse cluster networks from MD trajectories and single PDB files.\n",
    "\n",
    "Prerequisites: PDB files are required for cluster network identification. It is recommended that the user uses 'Step 1' notebook, 'fileconversion.ipynb' to preprocess their PDB formatted MD trajectory file into a folder of PDB files. \n",
    "\n",
    "Inputs: User supplies a path to a single PDB file, or a folder of PDB files. User supplies lists of atoms to define the cluster network, as well as cutoff parameters for the nearest-neighbor search. \n",
    "\n",
    "PLEASE READ: It is recommended to begin WITHOUT including solvent atoms as nearest neighbors within the search network. Use strictly solute atoms, and we can add in coordinating solvent in the following steps.'\n",
    "\n",
    "----\n",
    "SOLUTE COORDINATION NETWORK SEARCH\n",
    "- core_residue_names (lst, str): Indicates which atoms belong to the solute atoms that form clusters to be identified, based on their assigned residue number.\n",
    "\n",
    "- shell_residue_names (lst, str): Indicates which atoms below to solvent molecules, or counterions in solution. These may be inside the coordination sphere of the solute atoms, or may themselves be solute atoms or molecules that act as counterions. \n",
    "\n",
    "- node_elements (lst, str): Identifies the elements within the list of core_residue_names that act as nodes within a coordination network. \n",
    "\n",
    "- linker_elements (lst, str): Identifies elements that act as linkers between node elements. This can include other node elements, if multiple nodes can exist within a single cluster.\n",
    "\n",
    "- terminator_elements (lst, str): Identifies a list of elements that can act as terminator elements to the cluster. This could eventually be extended to residue names.\n",
    "\n",
    "- segment_cutoff (float): Designates the maximum distance for a node and linker element to be considered part of the same coordination network. \n",
    "\n",
    "----\n",
    "INCLUDING SOLVENT IN THE COORDINATION NETWORK SEARCH (COORDINATED SHELL)\n",
    "- target_elements (lst, str): Elements in the main cluster to consider for coordination to solvent atoms.\n",
    "- neighbor_elements (lst, str): Neighboring elements in the shell/solvent residues. A single atom in the molecule that is closest to the solute atom can represent the entire molecule (i.e., O atoms in DMSO).\n",
    "- distance_thresholds (dictionary): Set the coordination distance thresholds for each atom-atom pair."
   ]
  },
  {
   "cell_type": "markdown",
   "metadata": {},
   "source": [
    "### SINGLE FRAME: Isolate Atom Clusters as PDB Files - No Solvent"
   ]
  },
  {
   "cell_type": "code",
   "execution_count": 3,
   "metadata": {},
   "outputs": [
    {
     "name": "stdout",
     "output_type": "stream",
     "text": [
      "Folder already exists. Creating folder with timestamp: solute_cluster_pdb_files_240923_115016\n",
      "Written PDB file for cluster AAA to /Users/keithwhite/repos/MDScatter/data/example/solute_cluster_pdb_files_240923_115016/frame_0001_AAA.pdb\n",
      "Written PDB file for cluster AAB to /Users/keithwhite/repos/MDScatter/data/example/solute_cluster_pdb_files_240923_115016/frame_0001_AAB.pdb\n",
      "Written PDB file for cluster AAC to /Users/keithwhite/repos/MDScatter/data/example/solute_cluster_pdb_files_240923_115016/frame_0001_AAC.pdb\n",
      "Written PDB file for cluster AAD to /Users/keithwhite/repos/MDScatter/data/example/solute_cluster_pdb_files_240923_115016/frame_0001_AAD.pdb\n",
      "Written PDB file for cluster AAE to /Users/keithwhite/repos/MDScatter/data/example/solute_cluster_pdb_files_240923_115016/frame_0001_AAE.pdb\n",
      "Written PDB file for cluster AAF to /Users/keithwhite/repos/MDScatter/data/example/solute_cluster_pdb_files_240923_115016/frame_0001_AAF.pdb\n",
      "Written PDB file for cluster AAG to /Users/keithwhite/repos/MDScatter/data/example/solute_cluster_pdb_files_240923_115016/frame_0001_AAG.pdb\n",
      "Written PDB file for cluster AAH to /Users/keithwhite/repos/MDScatter/data/example/solute_cluster_pdb_files_240923_115016/frame_0001_AAH.pdb\n",
      "Written PDB file for cluster AAI to /Users/keithwhite/repos/MDScatter/data/example/solute_cluster_pdb_files_240923_115016/frame_0001_AAI.pdb\n",
      "Written PDB file for cluster AAJ to /Users/keithwhite/repos/MDScatter/data/example/solute_cluster_pdb_files_240923_115016/frame_0001_AAJ.pdb\n",
      "Written PDB file for cluster AAK to /Users/keithwhite/repos/MDScatter/data/example/solute_cluster_pdb_files_240923_115016/frame_0001_AAK.pdb\n",
      "Written PDB file for cluster AAL to /Users/keithwhite/repos/MDScatter/data/example/solute_cluster_pdb_files_240923_115016/frame_0001_AAL.pdb\n",
      "Written PDB file for cluster AAM to /Users/keithwhite/repos/MDScatter/data/example/solute_cluster_pdb_files_240923_115016/frame_0001_AAM.pdb\n",
      "Written PDB file for cluster AAN to /Users/keithwhite/repos/MDScatter/data/example/solute_cluster_pdb_files_240923_115016/frame_0001_AAN.pdb\n",
      "Written PDB file for cluster AAO to /Users/keithwhite/repos/MDScatter/data/example/solute_cluster_pdb_files_240923_115016/frame_0001_AAO.pdb\n",
      "Written PDB file for cluster AAP to /Users/keithwhite/repos/MDScatter/data/example/solute_cluster_pdb_files_240923_115016/frame_0001_AAP.pdb\n",
      "Written PDB file for cluster AAQ to /Users/keithwhite/repos/MDScatter/data/example/solute_cluster_pdb_files_240923_115016/frame_0001_AAQ.pdb\n",
      "Written PDB file for cluster AAR to /Users/keithwhite/repos/MDScatter/data/example/solute_cluster_pdb_files_240923_115016/frame_0001_AAR.pdb\n",
      "Written PDB file for cluster AAS to /Users/keithwhite/repos/MDScatter/data/example/solute_cluster_pdb_files_240923_115016/frame_0001_AAS.pdb\n",
      "Written PDB file for cluster AAT to /Users/keithwhite/repos/MDScatter/data/example/solute_cluster_pdb_files_240923_115016/frame_0001_AAT.pdb\n",
      "Written PDB file for cluster AAU to /Users/keithwhite/repos/MDScatter/data/example/solute_cluster_pdb_files_240923_115016/frame_0001_AAU.pdb\n",
      "Written PDB file for cluster AAV to /Users/keithwhite/repos/MDScatter/data/example/solute_cluster_pdb_files_240923_115016/frame_0001_AAV.pdb\n",
      "Written PDB file for cluster AAW to /Users/keithwhite/repos/MDScatter/data/example/solute_cluster_pdb_files_240923_115016/frame_0001_AAW.pdb\n",
      "Written PDB file for cluster AAX to /Users/keithwhite/repos/MDScatter/data/example/solute_cluster_pdb_files_240923_115016/frame_0001_AAX.pdb\n",
      "Written PDB file for cluster AAY to /Users/keithwhite/repos/MDScatter/data/example/solute_cluster_pdb_files_240923_115016/frame_0001_AAY.pdb\n",
      "Written PDB file for cluster AAZ to /Users/keithwhite/repos/MDScatter/data/example/solute_cluster_pdb_files_240923_115016/frame_0001_AAZ.pdb\n",
      "Written PDB file for cluster ABA to /Users/keithwhite/repos/MDScatter/data/example/solute_cluster_pdb_files_240923_115016/frame_0001_ABA.pdb\n",
      "Written PDB file for cluster ABB to /Users/keithwhite/repos/MDScatter/data/example/solute_cluster_pdb_files_240923_115016/frame_0001_ABB.pdb\n",
      "Written PDB file for cluster ABC to /Users/keithwhite/repos/MDScatter/data/example/solute_cluster_pdb_files_240923_115016/frame_0001_ABC.pdb\n",
      "Written PDB file for cluster ABD to /Users/keithwhite/repos/MDScatter/data/example/solute_cluster_pdb_files_240923_115016/frame_0001_ABD.pdb\n",
      "Written PDB file for cluster ABE to /Users/keithwhite/repos/MDScatter/data/example/solute_cluster_pdb_files_240923_115016/frame_0001_ABE.pdb\n",
      "Written PDB file for cluster ABF to /Users/keithwhite/repos/MDScatter/data/example/solute_cluster_pdb_files_240923_115016/frame_0001_ABF.pdb\n",
      "Written PDB file for cluster ABG to /Users/keithwhite/repos/MDScatter/data/example/solute_cluster_pdb_files_240923_115016/frame_0001_ABG.pdb\n",
      "Written PDB file for cluster ABH to /Users/keithwhite/repos/MDScatter/data/example/solute_cluster_pdb_files_240923_115016/frame_0001_ABH.pdb\n",
      "Written PDB file for cluster ABI to /Users/keithwhite/repos/MDScatter/data/example/solute_cluster_pdb_files_240923_115016/frame_0001_ABI.pdb\n",
      "Written PDB file for cluster ABJ to /Users/keithwhite/repos/MDScatter/data/example/solute_cluster_pdb_files_240923_115016/frame_0001_ABJ.pdb\n",
      "Written PDB file for cluster ABK to /Users/keithwhite/repos/MDScatter/data/example/solute_cluster_pdb_files_240923_115016/frame_0001_ABK.pdb\n",
      "Written PDB file for cluster ABL to /Users/keithwhite/repos/MDScatter/data/example/solute_cluster_pdb_files_240923_115016/frame_0001_ABL.pdb\n",
      "Written PDB file for cluster ABM to /Users/keithwhite/repos/MDScatter/data/example/solute_cluster_pdb_files_240923_115016/frame_0001_ABM.pdb\n",
      "Written PDB file for cluster ABN to /Users/keithwhite/repos/MDScatter/data/example/solute_cluster_pdb_files_240923_115016/frame_0001_ABN.pdb\n",
      "Written PDB file for cluster ABO to /Users/keithwhite/repos/MDScatter/data/example/solute_cluster_pdb_files_240923_115016/frame_0001_ABO.pdb\n",
      "Written PDB file for cluster ABP to /Users/keithwhite/repos/MDScatter/data/example/solute_cluster_pdb_files_240923_115016/frame_0001_ABP.pdb\n",
      "Written PDB file for cluster ABQ to /Users/keithwhite/repos/MDScatter/data/example/solute_cluster_pdb_files_240923_115016/frame_0001_ABQ.pdb\n",
      "Written PDB file for cluster ABR to /Users/keithwhite/repos/MDScatter/data/example/solute_cluster_pdb_files_240923_115016/frame_0001_ABR.pdb\n",
      "Written PDB file for cluster ABS to /Users/keithwhite/repos/MDScatter/data/example/solute_cluster_pdb_files_240923_115016/frame_0001_ABS.pdb\n",
      "Written PDB file for cluster ABT to /Users/keithwhite/repos/MDScatter/data/example/solute_cluster_pdb_files_240923_115016/frame_0001_ABT.pdb\n",
      "Written PDB file for cluster ABU to /Users/keithwhite/repos/MDScatter/data/example/solute_cluster_pdb_files_240923_115016/frame_0001_ABU.pdb\n"
     ]
    }
   ],
   "source": [
    "# Define the path to the PDB file and initialize the handler\n",
    "pdb_file_path = '/Users/keithwhite/repos/MDScatter/data/example/frame_0001.pdb'\n",
    "core_residue_names = ['PBI']\n",
    "shell_residue_names = ['DMS']\n",
    "pdb_handler = PDBFileHandler(pdb_file_path, core_residue_names, shell_residue_names)\n",
    "\n",
    "# Initialize ClusterNetwork with relevant parameters\n",
    "node_elements = ['Pb']\n",
    "linker_elements = ['Pb', 'I']\n",
    "terminator_elements = ['I']\n",
    "segment_cutoff = 3.7\n",
    "cluster_network = ClusterNetwork(\n",
    "    pdb_handler.core_atoms,\n",
    "    pdb_handler.shell_atoms,\n",
    "    node_elements,\n",
    "    linker_elements,\n",
    "    terminator_elements,\n",
    "    segment_cutoff,\n",
    "    core_residue_names,\n",
    "    shell_residue_names\n",
    ")\n",
    "\n",
    "## -- OUTPUT THE FILES\n",
    "# Output directory for the PDB files\n",
    "output_directory = '/Users/keithwhite/repos/MDScatter/data/example'\n",
    "folder_name = \"solute_cluster_pdb_files\"  # Folder to be created\n",
    "\n",
    "# Write the cluster PDB files with the coordinated shell residues\n",
    "cluster_network.write_individual_cluster_pdb_files(pdb_handler, output_directory, folder_name)"
   ]
  },
  {
   "cell_type": "markdown",
   "metadata": {},
   "source": [
    "##### Validate Input-Output Atom Counts Match"
   ]
  },
  {
   "cell_type": "code",
   "execution_count": 4,
   "metadata": {},
   "outputs": [
    {
     "name": "stdout",
     "output_type": "stream",
     "text": [
      "Linker element counts in input PDB:\n",
      "Pb: 61\n",
      "I: 122\n",
      "Linker element counts in input PDB:\n",
      "Pb: 61\n",
      "I: 122\n",
      "\n",
      "Linker element counts in output PDB files:\n",
      "Pb: 61\n",
      "I: 122\n",
      "Pb count matches between input and output.\n",
      "I count matches between input and output.\n",
      "\n",
      "All linker element counts match between the input PDB and output PDB files.\n"
     ]
    }
   ],
   "source": [
    "# Count linker elements in input PDB\n",
    "cluster_network.count_linker_elements_in_input_pdb(pdb_handler)\n",
    "\n",
    "# Count linker elements in output PDB files\n",
    "cluster_network.count_linker_elements_in_output_pdb_files(output_directory, folder_name, pdb_handler)\n"
   ]
  },
  {
   "cell_type": "markdown",
   "metadata": {},
   "source": [
    "### SINGLE FRAME: Visualize cluster networks in a single frame with your given input conditions. "
   ]
  },
  {
   "cell_type": "code",
   "execution_count": null,
   "metadata": {},
   "outputs": [],
   "source": [
    "%matplotlib widget\n",
    "\n",
    "# Visualize the atom networks in 3D\n",
    "cluster_network.visualize_networks()"
   ]
  },
  {
   "cell_type": "markdown",
   "metadata": {},
   "source": [
    "### SINGLE FRAME: Isolate Atom Clusters as PDB Files - Including Solvent"
   ]
  },
  {
   "cell_type": "code",
   "execution_count": null,
   "metadata": {},
   "outputs": [],
   "source": [
    "# Define the path to the PDB file and initialize the handler\n",
    "pdb_file_path = '/Users/keithwhite/repos/MDScatter/data/example/frame_0001.pdb'\n",
    "core_residue_names = ['PBI']\n",
    "shell_residue_names = ['DMS']\n",
    "pdb_handler = PDBFileHandler(pdb_file_path, core_residue_names, shell_residue_names)\n",
    "\n",
    "# Initialize ClusterNetwork with relevant parameters\n",
    "node_elements = ['Pb']\n",
    "linker_elements = ['Pb', 'I']\n",
    "terminator_elements = ['I']\n",
    "segment_cutoff = 3.7\n",
    "cluster_network = ClusterNetwork(\n",
    "    pdb_handler.core_atoms,\n",
    "    pdb_handler.shell_atoms,\n",
    "    node_elements,\n",
    "    linker_elements,\n",
    "    terminator_elements,\n",
    "    segment_cutoff,\n",
    "    core_residue_names,\n",
    "    shell_residue_names\n",
    ")\n",
    "\n",
    "## -- SPECIFY NEIGHBORING SOLVENT ELEMENTS\n",
    "# Specify the inputs for coordination\n",
    "target_elements = ['Pb']  # Elements in the main cluster to consider for coordination\n",
    "neighbor_elements = ['O']  # Neighboring elements in the shell residues\n",
    "distance_thresholds = {('Pb', 'O'): 3}  # Coordination thresholds\n",
    "\n",
    "## -- OUTPUT THE FILES\n",
    "# Output directory for the PDB files\n",
    "output_directory = '/Users/keithwhite/repos/MDScatter/data/example'\n",
    "folder_name = \"solute-solvent_cluster_pdb_files\"  # Folder to be created\n",
    "\n",
    "\n",
    "# Write the cluster PDB files with the coordinated shell residues\n",
    "cluster_network.write_cluster_pdb_files_with_coordinated_shell(pdb_handler, output_directory, folder_name, target_elements, neighbor_elements, distance_thresholds, shell_residue_names)"
   ]
  },
  {
   "cell_type": "markdown",
   "metadata": {},
   "source": [
    "### SINGLE FRAME: Rename each cluster with a unique residue name and generate a new PDB file."
   ]
  },
  {
   "cell_type": "code",
   "execution_count": null,
   "metadata": {},
   "outputs": [],
   "source": [
    "# Define the path to the PDB file and initialize the handler\n",
    "pdb_file_path = '/Users/keithwhite/repos/MDScatter/data/example/frame_0001.pdb'\n",
    "core_residue_names = ['PBI']\n",
    "shell_residue_names = ['DMS']\n",
    "pdb_handler = PDBFileHandler(pdb_file_path, core_residue_names, shell_residue_names)\n",
    "\n",
    "# Initialize ClusterNetwork with relevant parameters\n",
    "node_elements = ['Pb']\n",
    "linker_elements = ['Pb', 'I']\n",
    "terminator_elements = ['I']\n",
    "segment_cutoff = 3.7\n",
    "cluster_network = ClusterNetwork(\n",
    "    pdb_handler.core_atoms,\n",
    "    pdb_handler.shell_atoms,\n",
    "    node_elements,\n",
    "    linker_elements,\n",
    "    terminator_elements,\n",
    "    segment_cutoff,\n",
    "    core_residue_names,\n",
    "    shell_residue_names\n",
    ")\n",
    "\n",
    "## -- OUTPUT Information\n",
    "output_path = \"/Users/keithwhite/repos/MDScatter/data/example\"\n",
    "output_filename = \"output_test.pdb\"\n",
    "\n",
    "# Rename clusters in the PDB file and save the result as a single PDB file\n",
    "cluster_network.rename_clusters_in_pdb(pdb_handler, output_path, output_filename)"
   ]
  },
  {
   "cell_type": "markdown",
   "metadata": {},
   "source": [
    "### MULTIPLE FRAMES: Batch Process MD Frames to Extract Clusters - Including Solvent"
   ]
  },
  {
   "cell_type": "code",
   "execution_count": null,
   "metadata": {},
   "outputs": [],
   "source": [
    "# Define the paths for input and output directories\n",
    "input_pdb_directory = '/Users/keithwhite/repos/run_fullrmc/md_sim/travis_md_crnb/PbI2_DMSO_0.8M_cr_nb/split_pdb'  # Path to the folder with PDB files\n",
    "output_directory = '/Users/keithwhite/repos/run_fullrmc/md_sim/travis_md_crnb/PbI2_DMSO_0.8M_cr_nb/clusters_pdb'\n",
    "\n",
    "# Core and shell residue names (customize as needed)\n",
    "core_residue_names = ['PBI']\n",
    "shell_residue_names = ['DMS']\n",
    "\n",
    "# Ensure the output directory exists\n",
    "if not os.path.exists(output_directory):\n",
    "    os.makedirs(output_directory)\n",
    "\n",
    "# Cluster network parameters\n",
    "node_elements = ['Pb']\n",
    "linker_elements = ['Pb', 'I']\n",
    "terminator_elements = ['I']\n",
    "segment_cutoff = 3.6\n",
    "\n",
    "# Coordination inputs\n",
    "target_elements = ['Pb']  # Elements in the main cluster to consider for coordination\n",
    "neighbor_elements = ['O']  # Neighboring elements in the shell residues\n",
    "distance_thresholds = {('Pb', 'O'): 3}  # Coordination thresholds\n",
    "\n",
    "# Loop through all PDB files in the input directory\n",
    "for pdb_file_name in os.listdir(input_pdb_directory):\n",
    "    if pdb_file_name.endswith('.pdb'):\n",
    "        pdb_file_path = os.path.join(input_pdb_directory, pdb_file_name)\n",
    "        \n",
    "        # Initialize the PDB handler\n",
    "        pdb_handler = PDBFileHandler(pdb_file_path, core_residue_names, shell_residue_names)\n",
    "\n",
    "        # Initialize ClusterNetwork with relevant parameters\n",
    "        cluster_network = ClusterNetwork(\n",
    "            pdb_handler.core_atoms,\n",
    "            pdb_handler.shell_atoms,\n",
    "            node_elements,\n",
    "            linker_elements,\n",
    "            terminator_elements,\n",
    "            segment_cutoff,\n",
    "            core_residue_names,\n",
    "            shell_residue_names\n",
    "        )\n",
    "\n",
    "        # Write the cluster PDB files with the coordinated shell residues\n",
    "        cluster_network.write_cluster_pdb_files_with_coordinated_shell(\n",
    "            pdb_handler, \n",
    "            output_directory, \n",
    "            target_elements, \n",
    "            neighbor_elements, \n",
    "            distance_thresholds, \n",
    "            shell_residue_names\n",
    "        )\n",
    "\n",
    "print(\"Cluster isolation and PDB file generation complete.\")"
   ]
  }
 ],
 "metadata": {
  "kernelspec": {
   "display_name": "pdfreduce",
   "language": "python",
   "name": "python3"
  },
  "language_info": {
   "codemirror_mode": {
    "name": "ipython",
    "version": 3
   },
   "file_extension": ".py",
   "mimetype": "text/x-python",
   "name": "python",
   "nbconvert_exporter": "python",
   "pygments_lexer": "ipython3",
   "version": "3.11.6"
  }
 },
 "nbformat": 4,
 "nbformat_minor": 2
}
