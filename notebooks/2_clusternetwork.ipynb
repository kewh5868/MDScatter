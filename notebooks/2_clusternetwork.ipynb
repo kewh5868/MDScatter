{
 "cells": [
  {
   "cell_type": "markdown",
   "metadata": {},
   "source": [
    "# Step 2: Cluster Network Tool\n",
    "Used to determine cluster networks, coordination numbers, SAXS patterns from cluster distributions, cluster shape function distributions in PDF."
   ]
  },
  {
   "cell_type": "markdown",
   "metadata": {},
   "source": [
    "## Custom Imports\n",
    "Relative import the custom classes to support the cluster network tool."
   ]
  },
  {
   "cell_type": "code",
   "execution_count": 1,
   "metadata": {},
   "outputs": [
    {
     "name": "stdout",
     "output_type": "stream",
     "text": [
      "Scripts directory '/Users/keithwhite/repos/MDScatter/scripts' has been added to sys.path.\n",
      "Class imports have been set up.\n"
     ]
    }
   ],
   "source": [
    "# Import and run the setup script\n",
    "import sys, os\n",
    "\n",
    "# Ensure the project root is in sys.path to locate setup_env\n",
    "project_root = os.path.abspath(os.path.join(os.getcwd(), '..'))\n",
    "if project_root not in sys.path:\n",
    "    sys.path.append(project_root)\n",
    "\n",
    "# Import the setup helper and configure the environment\n",
    "from setup_env import setup_environment\n",
    "\n",
    "# Capture the imported classes from setup_environment\n",
    "TrajectoryProcessor, PDBFileHandler, Atom, ClusterNetwork, ClusterBatchAnalyzer = setup_environment()"
   ]
  },
  {
   "cell_type": "markdown",
   "metadata": {},
   "source": [
    "## Cluster Network Usage\n",
    "Used to identify and parse cluster networks from MD PDB files. "
   ]
  },
  {
   "cell_type": "markdown",
   "metadata": {},
   "source": [
    "### Save Individually Identified Clusters"
   ]
  },
  {
   "cell_type": "code",
   "execution_count": 2,
   "metadata": {},
   "outputs": [
    {
     "ename": "FileNotFoundError",
     "evalue": "[Errno 2] No such file or directory: '/Users/keithwhite/repos/run_fullrmc/clustertool/example/PbI2_DMSO_0p8M_test.pdb'",
     "output_type": "error",
     "traceback": [
      "\u001b[0;31m---------------------------------------------------------------------------\u001b[0m",
      "\u001b[0;31mFileNotFoundError\u001b[0m                         Traceback (most recent call last)",
      "Cell \u001b[0;32mIn[2], line 5\u001b[0m\n\u001b[1;32m      3\u001b[0m core_residue_names \u001b[38;5;241m=\u001b[39m [\u001b[38;5;124m'\u001b[39m\u001b[38;5;124mPBI\u001b[39m\u001b[38;5;124m'\u001b[39m]\n\u001b[1;32m      4\u001b[0m shell_residue_names \u001b[38;5;241m=\u001b[39m [\u001b[38;5;124m'\u001b[39m\u001b[38;5;124mDMS\u001b[39m\u001b[38;5;124m'\u001b[39m]\n\u001b[0;32m----> 5\u001b[0m pdb_handler \u001b[38;5;241m=\u001b[39m \u001b[43mPDBFileHandler\u001b[49m\u001b[43m(\u001b[49m\u001b[43mpdb_file_path\u001b[49m\u001b[43m,\u001b[49m\u001b[43m \u001b[49m\u001b[43mcore_residue_names\u001b[49m\u001b[43m,\u001b[49m\u001b[43m \u001b[49m\u001b[43mshell_residue_names\u001b[49m\u001b[43m)\u001b[49m\n\u001b[1;32m      7\u001b[0m \u001b[38;5;66;03m# Initialize ClusterNetwork with relevant parameters\u001b[39;00m\n\u001b[1;32m      8\u001b[0m node_elements \u001b[38;5;241m=\u001b[39m [\u001b[38;5;124m'\u001b[39m\u001b[38;5;124mPb\u001b[39m\u001b[38;5;124m'\u001b[39m]\n",
      "File \u001b[0;32m~/repos/MDScatter/scripts/conversion/pdbhandler.py:18\u001b[0m, in \u001b[0;36mPDBFileHandler.__init__\u001b[0;34m(self, filepath, core_residue_names, shell_residue_names)\u001b[0m\n\u001b[1;32m     16\u001b[0m \u001b[38;5;28mself\u001b[39m\u001b[38;5;241m.\u001b[39mcore_atoms \u001b[38;5;241m=\u001b[39m []\n\u001b[1;32m     17\u001b[0m \u001b[38;5;28mself\u001b[39m\u001b[38;5;241m.\u001b[39mshell_atoms \u001b[38;5;241m=\u001b[39m []\n\u001b[0;32m---> 18\u001b[0m \u001b[38;5;28;43mself\u001b[39;49m\u001b[38;5;241;43m.\u001b[39;49m\u001b[43mread_pdb_file\u001b[49m\u001b[43m(\u001b[49m\u001b[43m)\u001b[49m\n",
      "File \u001b[0;32m~/repos/MDScatter/scripts/conversion/pdbhandler.py:25\u001b[0m, in \u001b[0;36mPDBFileHandler.read_pdb_file\u001b[0;34m(self)\u001b[0m\n\u001b[1;32m     20\u001b[0m \u001b[38;5;28;01mdef\u001b[39;00m \u001b[38;5;21mread_pdb_file\u001b[39m(\u001b[38;5;28mself\u001b[39m):\n\u001b[1;32m     21\u001b[0m \u001b[38;5;250m    \u001b[39m\u001b[38;5;124;03m\"\"\"\u001b[39;00m\n\u001b[1;32m     22\u001b[0m \u001b[38;5;124;03m    Reads a PDB file and parses the atom information.\u001b[39;00m\n\u001b[1;32m     23\u001b[0m \u001b[38;5;124;03m    Separates core and shell atoms based on residue names.\u001b[39;00m\n\u001b[1;32m     24\u001b[0m \u001b[38;5;124;03m    \"\"\"\u001b[39;00m\n\u001b[0;32m---> 25\u001b[0m     \u001b[38;5;28;01mwith\u001b[39;00m \u001b[38;5;28;43mopen\u001b[39;49m\u001b[43m(\u001b[49m\u001b[38;5;28;43mself\u001b[39;49m\u001b[38;5;241;43m.\u001b[39;49m\u001b[43mfilepath\u001b[49m\u001b[43m,\u001b[49m\u001b[43m \u001b[49m\u001b[38;5;124;43m'\u001b[39;49m\u001b[38;5;124;43mr\u001b[39;49m\u001b[38;5;124;43m'\u001b[39;49m\u001b[43m)\u001b[49m \u001b[38;5;28;01mas\u001b[39;00m file:\n\u001b[1;32m     26\u001b[0m         \u001b[38;5;28;01mfor\u001b[39;00m line \u001b[38;5;129;01min\u001b[39;00m file:\n\u001b[1;32m     27\u001b[0m             \u001b[38;5;28;01mif\u001b[39;00m line\u001b[38;5;241m.\u001b[39mstartswith(\u001b[38;5;124m\"\u001b[39m\u001b[38;5;124mATOM\u001b[39m\u001b[38;5;124m\"\u001b[39m) \u001b[38;5;129;01mor\u001b[39;00m line\u001b[38;5;241m.\u001b[39mstartswith(\u001b[38;5;124m\"\u001b[39m\u001b[38;5;124mHETATM\u001b[39m\u001b[38;5;124m\"\u001b[39m):\n",
      "\u001b[0;31mFileNotFoundError\u001b[0m: [Errno 2] No such file or directory: '/Users/keithwhite/repos/run_fullrmc/clustertool/example/PbI2_DMSO_0p8M_test.pdb'"
     ]
    }
   ],
   "source": [
    "# Define the path to the PDB file and initialize the handler\n",
    "pdb_file_path = '/Users/keithwhite/repos/run_fullrmc/clustertool/example/PbI2_DMSO_0p8M_test.pdb'\n",
    "core_residue_names = ['PBI']\n",
    "shell_residue_names = ['DMS']\n",
    "pdb_handler = PDBFileHandler(pdb_file_path, core_residue_names, shell_residue_names)\n",
    "\n",
    "# Initialize ClusterNetwork with relevant parameters\n",
    "node_elements = ['Pb']\n",
    "linker_elements = ['Pb', 'I']\n",
    "terminator_elements = ['I']\n",
    "segment_cutoff = 3.8\n",
    "cluster_network = ClusterNetwork(\n",
    "    pdb_handler.core_atoms,\n",
    "    pdb_handler.shell_atoms,\n",
    "    node_elements,\n",
    "    linker_elements,\n",
    "    terminator_elements,\n",
    "    segment_cutoff,\n",
    "    core_residue_names,\n",
    "    shell_residue_names\n",
    ")\n",
    "\n",
    "# Specify the inputs for coordination\n",
    "target_elements = ['Pb']  # Elements in the main cluster to consider for coordination\n",
    "neighbor_elements = ['O']  # Neighboring elements in the shell residues\n",
    "distance_thresholds = {('Pb', 'O'): 3}  # Coordination thresholds\n",
    "\n",
    "# Output directory for the PDB files\n",
    "output_directory = '/Users/keithwhite/repos/run_fullrmc/clustertool/example/clusters'\n",
    "\n",
    "# Write the cluster PDB files with the coordinated shell residues\n",
    "cluster_network.write_cluster_pdb_files_with_coordinated_shell(pdb_handler, output_directory, target_elements, neighbor_elements, distance_thresholds, shell_residue_names)\n"
   ]
  },
  {
   "cell_type": "markdown",
   "metadata": {},
   "source": [
    "### Save Individually Identified Clusters w/ Shell (Solvent) Molecules"
   ]
  },
  {
   "cell_type": "code",
   "execution_count": null,
   "metadata": {},
   "outputs": [],
   "source": [
    "# Define the path to the PDB file and initialize the handler\n",
    "pdb_file_path = '/Users/keithwhite/repos/run_fullrmc/clustertool/example/PbI2_DMSO_0p8M_test.pdb'\n",
    "core_residue_names = ['PBI']\n",
    "shell_residue_names = ['DMS']\n",
    "pdb_handler = PDBFileHandler(pdb_file_path, core_residue_names, shell_residue_names)\n",
    "\n",
    "# Initialize ClusterNetwork with relevant parameters\n",
    "node_elements = ['Pb']\n",
    "linker_elements = ['Pb', 'I']\n",
    "terminator_elements = ['I']\n",
    "segment_cutoff = 3.7\n",
    "cluster_network = ClusterNetwork(\n",
    "    pdb_handler.core_atoms,\n",
    "    pdb_handler.shell_atoms,\n",
    "    node_elements,\n",
    "    linker_elements,\n",
    "    terminator_elements,\n",
    "    segment_cutoff,\n",
    "    core_residue_names,\n",
    "    shell_residue_names\n",
    ")\n",
    "\n",
    "# Specify the inputs for coordination\n",
    "target_elements = ['Pb']  # Elements in the main cluster to consider for coordination\n",
    "neighbor_elements = ['O']  # Neighboring elements in the shell residues\n",
    "distance_thresholds = {('Pb', 'O'): 3}  # Coordination thresholds\n",
    "\n",
    "# Output directory for the PDB files\n",
    "output_directory = '/Users/keithwhite/repos/run_fullrmc/clustertool/example/clusters'\n",
    "\n",
    "# Write the cluster PDB files with the coordinated shell residues\n",
    "cluster_network.write_cluster_pdb_files_with_coordinated_shell(pdb_handler, output_directory, target_elements, neighbor_elements, distance_thresholds, shell_residue_names)\n"
   ]
  },
  {
   "cell_type": "markdown",
   "metadata": {},
   "source": [
    "### Batch Process MD Frames to Extract Clusters"
   ]
  },
  {
   "cell_type": "code",
   "execution_count": null,
   "metadata": {},
   "outputs": [],
   "source": [
    "import os\n",
    "\n",
    "# Define the paths for input and output directories\n",
    "# input_pdb_directory = '/Users/keithwhite/repos/run_fullrmc/md_sim/travis_md_results/PbI2_DMSO_0.8M_berendsen/trajectory_pdb'  # Path to the folder with PDB files\n",
    "# output_directory = '/Users/keithwhite/repos/run_fullrmc/md_sim/travis_md_results/PbI2_DMSO_0.8M_berendsen/split_clusters_pdb_PbI3p4A'\n",
    "\n",
    "input_pdb_directory = '/Users/keithwhite/repos/run_fullrmc/md_sim/travis_md_crnb/PbI2_DMSO_0.8M_cr_nb/split_pdb'  # Path to the folder with PDB files\n",
    "output_directory = '/Users/keithwhite/repos/run_fullrmc/md_sim/travis_md_crnb/PbI2_DMSO_0.8M_cr_nb/clusters_pdb'\n",
    "\n",
    "# Core and shell residue names (customize as needed)\n",
    "core_residue_names = ['PBI']\n",
    "shell_residue_names = ['DMS']\n",
    "\n",
    "# Ensure the output directory exists\n",
    "if not os.path.exists(output_directory):\n",
    "    os.makedirs(output_directory)\n",
    "\n",
    "# Cluster network parameters\n",
    "node_elements = ['Pb']\n",
    "linker_elements = ['Pb', 'I']\n",
    "terminator_elements = ['I']\n",
    "segment_cutoff = 3.6\n",
    "\n",
    "# Coordination inputs\n",
    "target_elements = ['Pb']  # Elements in the main cluster to consider for coordination\n",
    "neighbor_elements = ['O']  # Neighboring elements in the shell residues\n",
    "distance_thresholds = {('Pb', 'O'): 3}  # Coordination thresholds\n",
    "\n",
    "# Loop through all PDB files in the input directory\n",
    "for pdb_file_name in os.listdir(input_pdb_directory):\n",
    "    if pdb_file_name.endswith('.pdb'):\n",
    "        pdb_file_path = os.path.join(input_pdb_directory, pdb_file_name)\n",
    "        \n",
    "        # Initialize the PDB handler\n",
    "        pdb_handler = PDBFileHandler(pdb_file_path, core_residue_names, shell_residue_names)\n",
    "\n",
    "        # Initialize ClusterNetwork with relevant parameters\n",
    "        cluster_network = ClusterNetwork(\n",
    "            pdb_handler.core_atoms,\n",
    "            pdb_handler.shell_atoms,\n",
    "            node_elements,\n",
    "            linker_elements,\n",
    "            terminator_elements,\n",
    "            segment_cutoff,\n",
    "            core_residue_names,\n",
    "            shell_residue_names\n",
    "        )\n",
    "\n",
    "        # Write the cluster PDB files with the coordinated shell residues\n",
    "        cluster_network.write_cluster_pdb_files_with_coordinated_shell(\n",
    "            pdb_handler, \n",
    "            output_directory, \n",
    "            target_elements, \n",
    "            neighbor_elements, \n",
    "            distance_thresholds, \n",
    "            shell_residue_names\n",
    "        )\n",
    "\n",
    "print(\"Cluster isolation and PDB file generation complete.\")"
   ]
  },
  {
   "cell_type": "markdown",
   "metadata": {},
   "source": [
    "### Bond Length, Angle, Coordination Number Analysis"
   ]
  },
  {
   "cell_type": "code",
   "execution_count": null,
   "metadata": {},
   "outputs": [],
   "source": [
    "# Define the path to the PDB file and initialize the handler\n",
    "pdb_file_path = '/Users/keithwhite/repos/run_fullrmc/clustertool/example/PbI2_DMSO_0p8M_test.pdb'\n",
    "core_residue_names = ['PBI']\n",
    "shell_residue_names = ['DMS']\n",
    "pdb_handler = PDBFileHandler(pdb_file_path, core_residue_names, shell_residue_names)\n",
    "\n",
    "# Initialize ClusterNetwork with relevant parameters\n",
    "node_elements = ['Pb']\n",
    "linker_elements = ['Pb', 'I']\n",
    "terminator_elements = ['I']\n",
    "segment_cutoff = 3.6\n",
    "cluster_network = ClusterNetwork(\n",
    "    pdb_handler.core_atoms,\n",
    "    pdb_handler.shell_atoms,\n",
    "    node_elements,\n",
    "    linker_elements,\n",
    "    terminator_elements,\n",
    "    segment_cutoff,\n",
    "    core_residue_names,\n",
    "    shell_residue_names\n",
    ")\n",
    "\n",
    "# Analyze networks\n",
    "networks = cluster_network.analyze_networks()\n",
    "\n",
    "# Specify bond lengths and angles to calculate\n",
    "# bond_length_pairs = [('Pb', 'I', 3.8), ('I', 'I', 7.6)]\n",
    "bond_length_pairs = [('Pb', 'I', 3.8)] #, ('I', 'I', 7.6)]\n",
    "bond_angle_triplets = [('I', 'Pb', 'I', 3.8)]\n",
    "\n",
    "# Calculate and plot distributions\n",
    "cluster_network.calculate_and_plot_distributions(bond_length_pairs, bond_angle_triplets)\n",
    "\n",
    "# Analyze and print network details\n",
    "networks = cluster_network.analyze_networks()\n",
    "print(\"\\nNetwork Analysis:\")\n",
    "print(\"Number of Networks:\", len(networks))\n",
    "for network_id in networks:\n",
    "    print(\"Network ID:\", network_id)\n",
    "    branches = cluster_network.find_branches(network_id)\n",
    "    branch_analysis = cluster_network.analyze_branches(branches)\n",
    "    print(\"Number of Branches in Network:\", branch_analysis[\"num_branches\"])\n",
    "    for branch_detail in branch_analysis[\"branch_details\"]:\n",
    "        print(\"Number of Segments in Branch:\", branch_detail[\"num_segments\"])\n",
    "        print(\"Number of Motifs in Branch:\", branch_detail[\"num_motifs\"])\n",
    "\n",
    "# Update atoms with network-specific residue names\n",
    "updated_atoms = pdb_handler.core_atoms + pdb_handler.shell_atoms\n",
    "for atom in updated_atoms:\n",
    "    if atom.network_id:\n",
    "        atom.residue_name = atom.network_id\n",
    "\n",
    "# Apply the updated residue names to the atoms\n",
    "pdb_handler.update_residue_names(updated_atoms)\n",
    "\n",
    "# Optionally, write the modified PDB file with network-specific residue values\n",
    "output_pdb_file_path = '/Users/keithwhite/repos/run_fullrmc/clustertool/example/output_PbI2_DMSO_0p8M_test.pdb'\n",
    "pdb_handler.write_pdb_file(output_pdb_file_path)\n",
    "\n",
    "# Calculate coordination numbers\n",
    "target_elements = ['Pb']\n",
    "neighbor_elements = ['I', 'O']\n",
    "distance_thresholds = {('Pb', 'I'): 3.8, ('Pb', 'O'): 3}\n",
    "coordination_stats, total_stats = cluster_network.calculate_coordination_numbers(target_elements, neighbor_elements, distance_thresholds)\n",
    "\n",
    "# Print coordination numbers\n",
    "cluster_network.print_coordination_numbers(coordination_stats, total_stats)\n",
    "\n",
    "# Visualize the atom networks in 3D\n",
    "cluster_network.visualize_networks()\n"
   ]
  },
  {
   "cell_type": "code",
   "execution_count": null,
   "metadata": {},
   "outputs": [],
   "source": [
    "# Define parameters for the heatmap\n",
    "central_element = 'Pb'\n",
    "x_pair = ('Pb', 'I')\n",
    "y_pair = ('Pb', 'O')\n",
    "x_range = (1, 6)  # Range for Pb-I coordination number\n",
    "y_range = (1, 6)  # Range for Pb-O coordination number\n",
    "distance_cutoffs = {('Pb', 'I'): 3.6, ('Pb', 'O'): 3}\n",
    "\n",
    "# Calculate and plot the heatmap\n",
    "cluster_network.calculate_and_plot_heatmap(central_element, x_pair, y_pair, x_range, y_range, distance_cutoffs)\n"
   ]
  },
  {
   "cell_type": "markdown",
   "metadata": {},
   "source": [
    "## Cluster Batch Analysis\n",
    "Obtain statistical distribution information on batches of isolated clusters."
   ]
  },
  {
   "cell_type": "markdown",
   "metadata": {},
   "source": [
    "#### Check available coordination numbers and oxidation states for input atoms."
   ]
  },
  {
   "cell_type": "code",
   "execution_count": null,
   "metadata": {},
   "outputs": [],
   "source": [
    "from mendeleev import element\n",
    "\n",
    "# Retrieve the element information for oxygen\n",
    "oxygen = element('I')\n",
    "\n",
    "# Fetch the ionic radii for oxygen in different oxidation states\n",
    "ionic_radii = oxygen.ionic_radii\n",
    "\n",
    "# Print the ionic radii for each oxidation state\n",
    "for ir in ionic_radii:\n",
    "    print(f\"Oxidation State: {ir.charge}, Coordination: {ir.coordination}, Ionic Radius: {ir.ionic_radius} pm\")\n"
   ]
  },
  {
   "cell_type": "markdown",
   "metadata": {},
   "source": [
    "#### Calculate statistical distribution information on cluster population."
   ]
  },
  {
   "cell_type": "code",
   "execution_count": null,
   "metadata": {},
   "outputs": [],
   "source": [
    "%matplotlib widget\n",
    "\n",
    "# Define parameters for analysis\n",
    "pdb_directory = '/Users/keithwhite/repos/run_fullrmc/md_sim/travis_md_crnb/PbI2_DMSO_0.8M_cr_nb/clusters_pdb'\n",
    "target_elements = ['Pb']\n",
    "neighbor_elements = ['O', 'I']\n",
    "distance_thresholds = {\n",
    "    ('Pb', 'O'): 3.0,  # Example threshold distances in angstroms\n",
    "    ('Pb', 'I'): 3.6\n",
    "}\n",
    "\n",
    "# Define the charge dictionary, ensuring all charges are integers\n",
    "partial_charges = {\n",
    "    'Pb': (2, 6),    # Lead with a charge of 2+ and coordination number of 6\n",
    "    'I': (-1, 6),    # Iodine with a charge of 1- and coordination number of 6\n",
    "    'S': (-2, 6),    # Sulfur in DMSO with a neutral charge and coordination number of 2\n",
    "    'O': (-2, 2),    # Oxygen in DMSO with a charge of 2- and coordination number of 2\n",
    "    'C': (4, 4),     # Carbon in DMSO with a neutral charge and coordination number of 4\n",
    "    'H': (1, 1)      # Hydrogen in DMSO with a neutral charge and coordination number of 1\n",
    "}\n",
    "\n",
    "# Instantiate the ClusterBatchAnalyzer class with the necessary parameters\n",
    "analyzer = ClusterBatchAnalyzer(\n",
    "    pdb_directory=pdb_directory,\n",
    "    target_elements=target_elements,\n",
    "    neighbor_elements=neighbor_elements,\n",
    "    distance_thresholds=distance_thresholds,\n",
    "    charges=partial_charges,\n",
    "    core_residue_names=['PBI'], \n",
    "    shell_residue_names=['DMS'],\n",
    "    volume_method='radius_of_gyration'  # Choose the radius of gyration method\n",
    ")\n",
    "\n",
    "# Step 1: Analyze clusters to compute coordination numbers and volumes\n",
    "# Specify shape_type='sphere' to use spherical approximation with radius of gyration\n",
    "coordination_stats_per_size = analyzer.analyze_clusters(shape_type='sphere')\n",
    "# coordination_stats_per_size = analyzer.analyze_clusters(shape_type='ellipsoid')\n",
    "\n",
    "# Step 2: Define a range of q-values in inverse angstroms\n",
    "q_values = np.linspace(0.01, 1.4, 1000)\n",
    "\n",
    "# Step 3: Plot the total I(q) vs. q on a log-log scale\n",
    "analyzer.plot_total_iq(q_values)\n",
    "analyzer.save_total_iq(q_values)\n",
    "\n",
    "# Additional Steps (Optional):\n",
    "# If you want to visualize the average volume vs. cluster size using the radius of gyration,\n",
    "# you can call the corresponding plot method:\n",
    "analyzer.plot_average_volume_vs_cluster_size_rg()\n"
   ]
  }
 ],
 "metadata": {
  "kernelspec": {
   "display_name": "pdfreduce",
   "language": "python",
   "name": "python3"
  },
  "language_info": {
   "codemirror_mode": {
    "name": "ipython",
    "version": 3
   },
   "file_extension": ".py",
   "mimetype": "text/x-python",
   "name": "python",
   "nbconvert_exporter": "python",
   "pygments_lexer": "ipython3",
   "version": "3.11.6"
  }
 },
 "nbformat": 4,
 "nbformat_minor": 2
}
