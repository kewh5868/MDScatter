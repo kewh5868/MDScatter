{
 "cells": [
  {
   "cell_type": "markdown",
   "metadata": {},
   "source": [
    "# Step 1: File Conversion Toolkit\n",
    "Convert MD trajectories in PDB (.pdb) or XYZ (.xyz) format into single frame PDB or XYZ files for extended analysis."
   ]
  },
  {
   "cell_type": "markdown",
   "metadata": {
    "vscode": {
     "languageId": "plaintext"
    }
   },
   "source": [
    "##### Toolkit Imports"
   ]
  },
  {
   "cell_type": "code",
   "execution_count": null,
   "metadata": {},
   "outputs": [],
   "source": [
    "# Import and run the setup script\n",
    "import sys, os\n",
    "import numpy as np\n",
    "\n",
    "# Ensure the project root is in sys.path to locate setup_env\n",
    "project_root = os.path.abspath(os.path.join(os.getcwd(), '..'))\n",
    "if project_root not in sys.path:\n",
    "    sys.path.append(project_root)\n",
    "\n",
    "# Import the setup helper and configure the environment\n",
    "from setup_env import setup_environment\n",
    "\n",
    "# Capture the imported classes from setup_environment\n",
    "BulkVolumeParams, BulkVolume, RadiusOfGyrationCalculator, PDBEditor, TrajectoryProcessor, PDBFileHandler, Atom, ClusterNetwork, ClusterBatchAnalyzer = setup_environment()"
   ]
  },
  {
   "cell_type": "markdown",
   "metadata": {},
   "source": [
    "## Split MD Trajectory (XYZ)"
   ]
  },
  {
   "cell_type": "code",
   "execution_count": null,
   "metadata": {},
   "outputs": [],
   "source": [
    "# Specify input file, base directory, and custom folder name\n",
    "input_file = \"/Users/keithwhite/repos/MDScatter/data/PbI2_DMSO_0p8M_cr_nb/trajectory/PbI2_DMSO_0.8M_cr_nb_traj.xyz\"  # Path to the trajectory file\n",
    "base_dir = \"/Users/keithwhite/repos/MDScatter/data/PbI2_DMSO_0p8M_cr_nb\"     # Base directory where the folder will be created\n",
    "output_folder_name = \"split_xyz\"   # Custom folder name\n",
    "\n",
    "# Initialize the TrajectoryProcessor with the given parameters\n",
    "processor = TrajectoryProcessor(input_file, base_dir, output_folder_name)\n",
    "\n",
    "# Example for XYZ: Process the file (split and preprocess XYZ trajectory)\n",
    "processor.split_and_preprocess_xyz()"
   ]
  },
  {
   "cell_type": "markdown",
   "metadata": {
    "vscode": {
     "languageId": "plaintext"
    }
   },
   "source": [
    "## Split MD Trajectory (PDB)"
   ]
  },
  {
   "cell_type": "code",
   "execution_count": null,
   "metadata": {},
   "outputs": [],
   "source": [
    "# Example for PDB: Process the file (split PDB trajectory)\n",
    "pdb_input_file = \"/Users/keithwhite/repos/MDScatter/data/PbI2_DMSO_0p8M_cr_nb/trajectory/PbI2_DMSO_0.8M_cr_nb_traj.pdb\"\n",
    "base_dir = \"/Users/keithwhite/repos/MDScatter/data/PbI2_DMSO_0p8M_cr_nb\"     # Base directory where the folder will be created\n",
    "output_folder_name = \"split_pdb\"   # Custom folder name\n",
    "processor = TrajectoryProcessor(pdb_input_file, base_dir, output_folder_name)\n",
    "processor.split_pdb_trajectory()"
   ]
  },
  {
   "cell_type": "markdown",
   "metadata": {},
   "source": [
    "## PDB Reformatting Tools\n",
    "Tools for modifying the names of molecules and atom indices in PDB files. My suggestion is to preprocess the trajectory file before splitting the trajectory."
   ]
  },
  {
   "cell_type": "markdown",
   "metadata": {},
   "source": [
    "#### Check the current residue (molecule) name formats.\n",
    "You may do this to verify which molecules are present in your file, or to grab their names for renaming."
   ]
  },
  {
   "cell_type": "code",
   "execution_count": null,
   "metadata": {},
   "outputs": [],
   "source": [
    "# Example 1: Checking current residue names in the PDB file\n",
    "pdb_file = \"/Users/keithwhite/repos/MDScatter/data/example/frame_0001.pdb\"\n",
    "\n",
    "# Use the PDBEditor to read and print unique residue names\n",
    "residue_names = PDBEditor.read_residue_names(pdb_file)\n",
    "print(\"Unique residue names in the PDB file:\", residue_names)\n"
   ]
  },
  {
   "cell_type": "markdown",
   "metadata": {},
   "source": [
    "#### Update or add a residue (molecule) name.\n",
    "You may want to do this to name a new molecule that is to be introduced into to a larger structure file."
   ]
  },
  {
   "cell_type": "code",
   "execution_count": null,
   "metadata": {},
   "outputs": [],
   "source": [
    "# Example 2: Update or add residue names in the PDB file\n",
    "input_pdb = \"/Users/keithwhite/repos/MDScatter/data/example/frame_0001.pdb\"\n",
    "output_pdb = \"output_updated.pdb\"\n",
    "residue_mapping = {\n",
    "    # \"HOH\": \"WAT\",   # Change HOH to WAT\n",
    "    \"DMS\": \"DMF\"   # Change DMS to DMF\n",
    "}\n",
    "\n",
    "# Update or add residue names in the PDB file\n",
    "PDBEditor.update_or_add_residue_names(input_pdb, output_pdb, residue_mapping)\n",
    "\n",
    "print(f\"Residue names updated and saved to {output_pdb}.\")"
   ]
  },
  {
   "cell_type": "code",
   "execution_count": null,
   "metadata": {},
   "outputs": [],
   "source": [
    "check_names = \"/Users/keithwhite/repos/MDScatter/notebooks/output_updated.pdb\"\n",
    "\n",
    "# Use the PDBEditor to read and print unique residue names\n",
    "residue_names = PDBEditor.read_residue_names(check_names)\n",
    "print(\"Unique residue names in the PDB file:\", residue_names)"
   ]
  },
  {
   "cell_type": "markdown",
   "metadata": {},
   "source": [
    "#### Remove all atoms associated with a particular residue name.\n",
    "You might want to do this to visualize a structure without solvent, for example."
   ]
  },
  {
   "cell_type": "code",
   "execution_count": null,
   "metadata": {},
   "outputs": [],
   "source": [
    "# Example 3: Remove all atoms associated with a particular residue name\n",
    "input_pdb = \"/Users/keithwhite/repos/MDScatter/data/example/frame_0001.pdb\"\n",
    "output_pdb = \"output_no_DMS.pdb\"\n",
    "residue_to_remove = \"DMS\"\n",
    "\n",
    "# Remove the specific residue (e.g., HOH)\n",
    "PDBEditor.remove_residue(input_pdb, output_pdb, residue_to_remove)\n",
    "\n",
    "print(f\"Removed all atoms associated with {residue_to_remove} and saved to {output_pdb}.\")"
   ]
  },
  {
   "cell_type": "code",
   "execution_count": null,
   "metadata": {},
   "outputs": [],
   "source": [
    "check_names = \"/Users/keithwhite/repos/MDScatter/notebooks/output_no_DMF.pdb\"\n",
    "\n",
    "# Use the PDBEditor to read and print unique residue names\n",
    "residue_names = PDBEditor.read_residue_names(check_names)\n",
    "print(\"Unique residue names in the PDB file:\", residue_names)"
   ]
  },
  {
   "cell_type": "markdown",
   "metadata": {},
   "source": [
    "#### Map unique hydrogen names to respecitve carbon atoms.\n",
    "You may want to do this to be able to easily differentiate the atoms when setting up an RMC refinement."
   ]
  },
  {
   "cell_type": "code",
   "execution_count": null,
   "metadata": {},
   "outputs": [],
   "source": [
    "# Example 4: Map hydrogen atoms to carbon atoms in the residue \"DMS\"\n",
    "input_pdb = \"/Users/keithwhite/repos/MDScatter/data/example/frame_0001.pdb\"\n",
    "output_pdb = \"output_mapped.pdb\"\n",
    "residue_name = \"DMS\"\n",
    "carbon = \"C\"\n",
    "hydrogen = \"H\"\n",
    "\n",
    "# Rename hydrogen atoms in the DMS residue based on their closest carbon atoms\n",
    "PDBEditor.map_atom_pairs(input_pdb, output_pdb, residue_name, carbon, hydrogen, pair_label=\"CH\")\n",
    "\n",
    "print(f\"Mapped and renamed hydrogen atoms to carbon atoms in {residue_name} and saved to {output_pdb}.\")"
   ]
  }
 ],
 "metadata": {
  "kernelspec": {
   "display_name": "pdfreduce",
   "language": "python",
   "name": "python3"
  },
  "language_info": {
   "codemirror_mode": {
    "name": "ipython",
    "version": 3
   },
   "file_extension": ".py",
   "mimetype": "text/x-python",
   "name": "python",
   "nbconvert_exporter": "python",
   "pygments_lexer": "ipython3",
   "version": "3.11.6"
  }
 },
 "nbformat": 4,
 "nbformat_minor": 2
}
